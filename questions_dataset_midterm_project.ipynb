{
  "nbformat": 4,
  "nbformat_minor": 0,
  "metadata": {
    "colab": {
      "provenance": [],
      "authorship_tag": "ABX9TyMkQaLaJ9O+Z222vnKtiq9P",
      "include_colab_link": true
    },
    "kernelspec": {
      "name": "python3",
      "display_name": "Python 3"
    },
    "language_info": {
      "name": "python"
    }
  },
  "cells": [
    {
      "cell_type": "markdown",
      "metadata": {
        "id": "view-in-github",
        "colab_type": "text"
      },
      "source": [
        "<a href=\"https://colab.research.google.com/github/kajastalder/data-science-fundamentals/blob/main/questions_dataset_midterm_project.ipynb\" target=\"_parent\"><img src=\"https://colab.research.google.com/assets/colab-badge.svg\" alt=\"Open In Colab\"/></a>"
      ]
    },
    {
      "cell_type": "code",
      "execution_count": null,
      "metadata": {
        "id": "EeDnyUYKPDnt"
      },
      "outputs": [],
      "source": []
    },
    {
      "cell_type": "markdown",
      "source": [
        "# 3. Questions Dataset\n",
        "\n",
        "**1. What is in the training set, how big is it?**\n",
        "\n",
        "\n",
        "**2. What modifications do you need to do to the data set to perform the tutorial.**\n",
        "\n",
        "**3. What is a test set? Any other types of set?**\n",
        "\n",
        "The test set is the part of the dataset that is used to validate the model. It is used to determine how good the performance of the model is and how accurate its predictions are. \n",
        "\n",
        "4**. Before starting describe with 1-2 sentences, in your own words, what is done in each of the cells.**\n",
        "\n"
      ],
      "metadata": {
        "id": "90VIgGMlPEKo"
      }
    }
  ]
}