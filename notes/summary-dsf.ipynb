{
  "nbformat": 4,
  "nbformat_minor": 0,
  "metadata": {
    "colab": {
      "provenance": [],
      "authorship_tag": "ABX9TyOVqpXnOXxqMxKINoz6fpgo",
      "include_colab_link": true
    },
    "kernelspec": {
      "name": "python3",
      "display_name": "Python 3"
    },
    "language_info": {
      "name": "python"
    }
  },
  "cells": [
    {
      "cell_type": "markdown",
      "metadata": {
        "id": "view-in-github",
        "colab_type": "text"
      },
      "source": [
        "<a href=\"https://colab.research.google.com/github/kajastalder/data-science-fundamentals/blob/main/notes/summary-dsf.ipynb\" target=\"_parent\"><img src=\"https://colab.research.google.com/assets/colab-badge.svg\" alt=\"Open In Colab\"/></a>"
      ]
    },
    {
      "cell_type": "code",
      "execution_count": null,
      "metadata": {
        "id": "XTz8HwETznUd"
      },
      "outputs": [],
      "source": []
    },
    {
      "cell_type": "markdown",
      "source": [
        "# **Tasks Data Science Fundamentals**\n",
        "\n",
        "\n",
        "## **00_Introduction**\n",
        "\n",
        "Difference between C and Python according to ChatGPT:\n",
        "- check ChatGPT\n",
        "\n",
        "\n",
        "\n",
        "## **01_Basic_Python_1**\n",
        "\n",
        "\n",
        "## **02_Intro_Pandas_Numpy**\n",
        "\n",
        "Numpy: \n",
        "- core scientific computing library on which virtually all other scientific Python packages are building \n",
        "- for example Scipy, Pandas\n",
        "- but not deep learning libraries\n",
        "\n",
        "Pandas: \n",
        "- core data science library on which higher level libraries (e.g. for plotting) are building\n",
        "- main data structure: *DataFrame*\n",
        "- Data in DataFrames are *arrays*\n",
        "\n",
        "DataFrames: \n",
        "- Data in arrays\n",
        "- Two-dimensional data structure offered by Pandas\n",
        "\n",
        "**Import Pandas and Numpy:**\n",
        "\n",
        "\n",
        "\n",
        "\n"
      ],
      "metadata": {
        "id": "bsY3QKWSzoHH"
      }
    },
    {
      "cell_type": "code",
      "source": [
        "import pandas as pd\n",
        "import numpy as np"
      ],
      "metadata": {
        "id": "95XmohDG2w3c"
      },
      "execution_count": null,
      "outputs": []
    },
    {
      "cell_type": "markdown",
      "source": [
        "### Work with files:\n",
        "**Read file directly from the web:**\n",
        "- on GitHub, raw version of the file required\n",
        "\n",
        "Example: "
      ],
      "metadata": {
        "id": "KJZCevgt2z1z"
      }
    },
    {
      "cell_type": "code",
      "source": [
        "url = 'https://raw.githubusercontent.com/KingaS03/Introduction-to-Python/master/Homework/country_vaccinations.xls'\n",
        "vaccine = pd.read_csv(url)"
      ],
      "metadata": {
        "id": "fzEQslak3jAQ"
      },
      "execution_count": null,
      "outputs": []
    },
    {
      "cell_type": "markdown",
      "source": [
        "- DataFrame was downloaded and saved as DataFrame (type)\n",
        "\n",
        "\n",
        "**Get file from GoogleDrive:**\n"
      ],
      "metadata": {
        "id": "jT0L1_H73u7n"
      }
    },
    {
      "cell_type": "code",
      "source": [
        "from google.colab import drive\n",
        "drive.mount('/content/drive')\n",
        "path = '/content/drive/MyDrive/DSF/week-2/CCD-Data.txt'\n",
        "df = pd.read_csv(path, delimiter=',')"
      ],
      "metadata": {
        "colab": {
          "base_uri": "https://localhost:8080/"
        },
        "id": "Ns__0zXH41rn",
        "outputId": "74b0f563-d517-40a9-abc7-56d077fa753c"
      },
      "execution_count": null,
      "outputs": [
        {
          "output_type": "stream",
          "name": "stdout",
          "text": [
            "Mounted at /content/drive\n"
          ]
        }
      ]
    },
    {
      "cell_type": "markdown",
      "source": [
        "\n",
        "### Some important methods attached to dataframes:\n",
        "\n",
        "Show some lines and number of rows and columns of DataFrame: \n",
        "- excecute cell with name of variable"
      ],
      "metadata": {
        "id": "o0W8MCdt5S0Y"
      }
    },
    {
      "cell_type": "code",
      "source": [
        "df"
      ],
      "metadata": {
        "colab": {
          "base_uri": "https://localhost:8080/",
          "height": 423
        },
        "id": "xPyE6xxK5iUI",
        "outputId": "530f97a4-ee62-4d11-d80e-e4e120243b58"
      },
      "execution_count": null,
      "outputs": [
        {
          "output_type": "execute_result",
          "data": {
            "text/plain": [
              "    Data from 4ms_10 av_15 s_Absorbance_10-32-04-868.txt Node\n",
              "0                  Date: Thu Oct 25 10:32:04 CEST 2018       \n",
              "1                                      User: Christoph       \n",
              "2                               Spectrometer: BALLMOOS       \n",
              "3                                      Trigger mode: 4       \n",
              "4                  Integration Time (sec): 4.000000E-3       \n",
              "..                                                 ...       \n",
              "363  2018-10-25 10:32:34.404000\\t1540456354404\\t-0....       \n",
              "364  2018-10-25 10:32:34.488000\\t1540456354488\\t0.8...       \n",
              "365  2018-10-25 10:32:34.576000\\t1540456354576\\t0.3...       \n",
              "366  2018-10-25 10:32:34.660000\\t1540456354660\\t0.3...       \n",
              "367  2018-10-25 10:32:34.744000\\t1540456354744\\t0.1...       \n",
              "\n",
              "[368 rows x 1 columns]"
            ],
            "text/html": [
              "\n",
              "  <div id=\"df-46b68781-258c-4984-9a6b-c6405988a5cc\">\n",
              "    <div class=\"colab-df-container\">\n",
              "      <div>\n",
              "<style scoped>\n",
              "    .dataframe tbody tr th:only-of-type {\n",
              "        vertical-align: middle;\n",
              "    }\n",
              "\n",
              "    .dataframe tbody tr th {\n",
              "        vertical-align: top;\n",
              "    }\n",
              "\n",
              "    .dataframe thead th {\n",
              "        text-align: right;\n",
              "    }\n",
              "</style>\n",
              "<table border=\"1\" class=\"dataframe\">\n",
              "  <thead>\n",
              "    <tr style=\"text-align: right;\">\n",
              "      <th></th>\n",
              "      <th>Data from 4ms_10 av_15 s_Absorbance_10-32-04-868.txt Node</th>\n",
              "    </tr>\n",
              "  </thead>\n",
              "  <tbody>\n",
              "    <tr>\n",
              "      <th>0</th>\n",
              "      <td>Date: Thu Oct 25 10:32:04 CEST 2018</td>\n",
              "    </tr>\n",
              "    <tr>\n",
              "      <th>1</th>\n",
              "      <td>User: Christoph</td>\n",
              "    </tr>\n",
              "    <tr>\n",
              "      <th>2</th>\n",
              "      <td>Spectrometer: BALLMOOS</td>\n",
              "    </tr>\n",
              "    <tr>\n",
              "      <th>3</th>\n",
              "      <td>Trigger mode: 4</td>\n",
              "    </tr>\n",
              "    <tr>\n",
              "      <th>4</th>\n",
              "      <td>Integration Time (sec): 4.000000E-3</td>\n",
              "    </tr>\n",
              "    <tr>\n",
              "      <th>...</th>\n",
              "      <td>...</td>\n",
              "    </tr>\n",
              "    <tr>\n",
              "      <th>363</th>\n",
              "      <td>2018-10-25 10:32:34.404000\\t1540456354404\\t-0....</td>\n",
              "    </tr>\n",
              "    <tr>\n",
              "      <th>364</th>\n",
              "      <td>2018-10-25 10:32:34.488000\\t1540456354488\\t0.8...</td>\n",
              "    </tr>\n",
              "    <tr>\n",
              "      <th>365</th>\n",
              "      <td>2018-10-25 10:32:34.576000\\t1540456354576\\t0.3...</td>\n",
              "    </tr>\n",
              "    <tr>\n",
              "      <th>366</th>\n",
              "      <td>2018-10-25 10:32:34.660000\\t1540456354660\\t0.3...</td>\n",
              "    </tr>\n",
              "    <tr>\n",
              "      <th>367</th>\n",
              "      <td>2018-10-25 10:32:34.744000\\t1540456354744\\t0.1...</td>\n",
              "    </tr>\n",
              "  </tbody>\n",
              "</table>\n",
              "<p>368 rows × 1 columns</p>\n",
              "</div>\n",
              "      <button class=\"colab-df-convert\" onclick=\"convertToInteractive('df-46b68781-258c-4984-9a6b-c6405988a5cc')\"\n",
              "              title=\"Convert this dataframe to an interactive table.\"\n",
              "              style=\"display:none;\">\n",
              "        \n",
              "  <svg xmlns=\"http://www.w3.org/2000/svg\" height=\"24px\"viewBox=\"0 0 24 24\"\n",
              "       width=\"24px\">\n",
              "    <path d=\"M0 0h24v24H0V0z\" fill=\"none\"/>\n",
              "    <path d=\"M18.56 5.44l.94 2.06.94-2.06 2.06-.94-2.06-.94-.94-2.06-.94 2.06-2.06.94zm-11 1L8.5 8.5l.94-2.06 2.06-.94-2.06-.94L8.5 2.5l-.94 2.06-2.06.94zm10 10l.94 2.06.94-2.06 2.06-.94-2.06-.94-.94-2.06-.94 2.06-2.06.94z\"/><path d=\"M17.41 7.96l-1.37-1.37c-.4-.4-.92-.59-1.43-.59-.52 0-1.04.2-1.43.59L10.3 9.45l-7.72 7.72c-.78.78-.78 2.05 0 2.83L4 21.41c.39.39.9.59 1.41.59.51 0 1.02-.2 1.41-.59l7.78-7.78 2.81-2.81c.8-.78.8-2.07 0-2.86zM5.41 20L4 18.59l7.72-7.72 1.47 1.35L5.41 20z\"/>\n",
              "  </svg>\n",
              "      </button>\n",
              "      \n",
              "  <style>\n",
              "    .colab-df-container {\n",
              "      display:flex;\n",
              "      flex-wrap:wrap;\n",
              "      gap: 12px;\n",
              "    }\n",
              "\n",
              "    .colab-df-convert {\n",
              "      background-color: #E8F0FE;\n",
              "      border: none;\n",
              "      border-radius: 50%;\n",
              "      cursor: pointer;\n",
              "      display: none;\n",
              "      fill: #1967D2;\n",
              "      height: 32px;\n",
              "      padding: 0 0 0 0;\n",
              "      width: 32px;\n",
              "    }\n",
              "\n",
              "    .colab-df-convert:hover {\n",
              "      background-color: #E2EBFA;\n",
              "      box-shadow: 0px 1px 2px rgba(60, 64, 67, 0.3), 0px 1px 3px 1px rgba(60, 64, 67, 0.15);\n",
              "      fill: #174EA6;\n",
              "    }\n",
              "\n",
              "    [theme=dark] .colab-df-convert {\n",
              "      background-color: #3B4455;\n",
              "      fill: #D2E3FC;\n",
              "    }\n",
              "\n",
              "    [theme=dark] .colab-df-convert:hover {\n",
              "      background-color: #434B5C;\n",
              "      box-shadow: 0px 1px 3px 1px rgba(0, 0, 0, 0.15);\n",
              "      filter: drop-shadow(0px 1px 2px rgba(0, 0, 0, 0.3));\n",
              "      fill: #FFFFFF;\n",
              "    }\n",
              "  </style>\n",
              "\n",
              "      <script>\n",
              "        const buttonEl =\n",
              "          document.querySelector('#df-46b68781-258c-4984-9a6b-c6405988a5cc button.colab-df-convert');\n",
              "        buttonEl.style.display =\n",
              "          google.colab.kernel.accessAllowed ? 'block' : 'none';\n",
              "\n",
              "        async function convertToInteractive(key) {\n",
              "          const element = document.querySelector('#df-46b68781-258c-4984-9a6b-c6405988a5cc');\n",
              "          const dataTable =\n",
              "            await google.colab.kernel.invokeFunction('convertToInteractive',\n",
              "                                                     [key], {});\n",
              "          if (!dataTable) return;\n",
              "\n",
              "          const docLinkHtml = 'Like what you see? Visit the ' +\n",
              "            '<a target=\"_blank\" href=https://colab.research.google.com/notebooks/data_table.ipynb>data table notebook</a>'\n",
              "            + ' to learn more about interactive tables.';\n",
              "          element.innerHTML = '';\n",
              "          dataTable['output_type'] = 'display_data';\n",
              "          await google.colab.output.renderOutput(dataTable, element);\n",
              "          const docLink = document.createElement('div');\n",
              "          docLink.innerHTML = docLinkHtml;\n",
              "          element.appendChild(docLink);\n",
              "        }\n",
              "      </script>\n",
              "    </div>\n",
              "  </div>\n",
              "  "
            ]
          },
          "metadata": {},
          "execution_count": 5
        }
      ]
    },
    {
      "cell_type": "markdown",
      "source": [
        "Display the first 5 lines of the DataFrame: \n"
      ],
      "metadata": {
        "id": "v6hvKHsh6EQl"
      }
    },
    {
      "cell_type": "code",
      "source": [
        "df.head(5)"
      ],
      "metadata": {
        "colab": {
          "base_uri": "https://localhost:8080/",
          "height": 206
        },
        "id": "TdcB34tX6WcD",
        "outputId": "9ce7cddb-5a8e-4ccf-9e4c-8a3b684ea662"
      },
      "execution_count": null,
      "outputs": [
        {
          "output_type": "execute_result",
          "data": {
            "text/plain": [
              "  Data from 4ms_10 av_15 s_Absorbance_10-32-04-868.txt Node\n",
              "0                Date: Thu Oct 25 10:32:04 CEST 2018       \n",
              "1                                    User: Christoph       \n",
              "2                             Spectrometer: BALLMOOS       \n",
              "3                                    Trigger mode: 4       \n",
              "4                Integration Time (sec): 4.000000E-3       "
            ],
            "text/html": [
              "\n",
              "  <div id=\"df-d50b695c-aa99-4872-b664-0cad8e6ec72a\">\n",
              "    <div class=\"colab-df-container\">\n",
              "      <div>\n",
              "<style scoped>\n",
              "    .dataframe tbody tr th:only-of-type {\n",
              "        vertical-align: middle;\n",
              "    }\n",
              "\n",
              "    .dataframe tbody tr th {\n",
              "        vertical-align: top;\n",
              "    }\n",
              "\n",
              "    .dataframe thead th {\n",
              "        text-align: right;\n",
              "    }\n",
              "</style>\n",
              "<table border=\"1\" class=\"dataframe\">\n",
              "  <thead>\n",
              "    <tr style=\"text-align: right;\">\n",
              "      <th></th>\n",
              "      <th>Data from 4ms_10 av_15 s_Absorbance_10-32-04-868.txt Node</th>\n",
              "    </tr>\n",
              "  </thead>\n",
              "  <tbody>\n",
              "    <tr>\n",
              "      <th>0</th>\n",
              "      <td>Date: Thu Oct 25 10:32:04 CEST 2018</td>\n",
              "    </tr>\n",
              "    <tr>\n",
              "      <th>1</th>\n",
              "      <td>User: Christoph</td>\n",
              "    </tr>\n",
              "    <tr>\n",
              "      <th>2</th>\n",
              "      <td>Spectrometer: BALLMOOS</td>\n",
              "    </tr>\n",
              "    <tr>\n",
              "      <th>3</th>\n",
              "      <td>Trigger mode: 4</td>\n",
              "    </tr>\n",
              "    <tr>\n",
              "      <th>4</th>\n",
              "      <td>Integration Time (sec): 4.000000E-3</td>\n",
              "    </tr>\n",
              "  </tbody>\n",
              "</table>\n",
              "</div>\n",
              "      <button class=\"colab-df-convert\" onclick=\"convertToInteractive('df-d50b695c-aa99-4872-b664-0cad8e6ec72a')\"\n",
              "              title=\"Convert this dataframe to an interactive table.\"\n",
              "              style=\"display:none;\">\n",
              "        \n",
              "  <svg xmlns=\"http://www.w3.org/2000/svg\" height=\"24px\"viewBox=\"0 0 24 24\"\n",
              "       width=\"24px\">\n",
              "    <path d=\"M0 0h24v24H0V0z\" fill=\"none\"/>\n",
              "    <path d=\"M18.56 5.44l.94 2.06.94-2.06 2.06-.94-2.06-.94-.94-2.06-.94 2.06-2.06.94zm-11 1L8.5 8.5l.94-2.06 2.06-.94-2.06-.94L8.5 2.5l-.94 2.06-2.06.94zm10 10l.94 2.06.94-2.06 2.06-.94-2.06-.94-.94-2.06-.94 2.06-2.06.94z\"/><path d=\"M17.41 7.96l-1.37-1.37c-.4-.4-.92-.59-1.43-.59-.52 0-1.04.2-1.43.59L10.3 9.45l-7.72 7.72c-.78.78-.78 2.05 0 2.83L4 21.41c.39.39.9.59 1.41.59.51 0 1.02-.2 1.41-.59l7.78-7.78 2.81-2.81c.8-.78.8-2.07 0-2.86zM5.41 20L4 18.59l7.72-7.72 1.47 1.35L5.41 20z\"/>\n",
              "  </svg>\n",
              "      </button>\n",
              "      \n",
              "  <style>\n",
              "    .colab-df-container {\n",
              "      display:flex;\n",
              "      flex-wrap:wrap;\n",
              "      gap: 12px;\n",
              "    }\n",
              "\n",
              "    .colab-df-convert {\n",
              "      background-color: #E8F0FE;\n",
              "      border: none;\n",
              "      border-radius: 50%;\n",
              "      cursor: pointer;\n",
              "      display: none;\n",
              "      fill: #1967D2;\n",
              "      height: 32px;\n",
              "      padding: 0 0 0 0;\n",
              "      width: 32px;\n",
              "    }\n",
              "\n",
              "    .colab-df-convert:hover {\n",
              "      background-color: #E2EBFA;\n",
              "      box-shadow: 0px 1px 2px rgba(60, 64, 67, 0.3), 0px 1px 3px 1px rgba(60, 64, 67, 0.15);\n",
              "      fill: #174EA6;\n",
              "    }\n",
              "\n",
              "    [theme=dark] .colab-df-convert {\n",
              "      background-color: #3B4455;\n",
              "      fill: #D2E3FC;\n",
              "    }\n",
              "\n",
              "    [theme=dark] .colab-df-convert:hover {\n",
              "      background-color: #434B5C;\n",
              "      box-shadow: 0px 1px 3px 1px rgba(0, 0, 0, 0.15);\n",
              "      filter: drop-shadow(0px 1px 2px rgba(0, 0, 0, 0.3));\n",
              "      fill: #FFFFFF;\n",
              "    }\n",
              "  </style>\n",
              "\n",
              "      <script>\n",
              "        const buttonEl =\n",
              "          document.querySelector('#df-d50b695c-aa99-4872-b664-0cad8e6ec72a button.colab-df-convert');\n",
              "        buttonEl.style.display =\n",
              "          google.colab.kernel.accessAllowed ? 'block' : 'none';\n",
              "\n",
              "        async function convertToInteractive(key) {\n",
              "          const element = document.querySelector('#df-d50b695c-aa99-4872-b664-0cad8e6ec72a');\n",
              "          const dataTable =\n",
              "            await google.colab.kernel.invokeFunction('convertToInteractive',\n",
              "                                                     [key], {});\n",
              "          if (!dataTable) return;\n",
              "\n",
              "          const docLinkHtml = 'Like what you see? Visit the ' +\n",
              "            '<a target=\"_blank\" href=https://colab.research.google.com/notebooks/data_table.ipynb>data table notebook</a>'\n",
              "            + ' to learn more about interactive tables.';\n",
              "          element.innerHTML = '';\n",
              "          dataTable['output_type'] = 'display_data';\n",
              "          await google.colab.output.renderOutput(dataTable, element);\n",
              "          const docLink = document.createElement('div');\n",
              "          docLink.innerHTML = docLinkHtml;\n",
              "          element.appendChild(docLink);\n",
              "        }\n",
              "      </script>\n",
              "    </div>\n",
              "  </div>\n",
              "  "
            ]
          },
          "metadata": {},
          "execution_count": 6
        }
      ]
    },
    {
      "cell_type": "markdown",
      "source": [
        "Get basic statistical description of a DataFrame:"
      ],
      "metadata": {
        "id": "WAwScRh06Zex"
      }
    },
    {
      "cell_type": "code",
      "source": [
        "df.describe()"
      ],
      "metadata": {
        "colab": {
          "base_uri": "https://localhost:8080/",
          "height": 175
        },
        "id": "AiUs8M4Q6eMW",
        "outputId": "d6e08e77-31b5-4a77-b65d-a7d48c2ff1a2"
      },
      "execution_count": null,
      "outputs": [
        {
          "output_type": "execute_result",
          "data": {
            "text/plain": [
              "       Data from 4ms_10 av_15 s_Absorbance_10-32-04-868.txt Node\n",
              "count                                                 368       \n",
              "unique                                                368       \n",
              "top                   Date: Thu Oct 25 10:32:04 CEST 2018       \n",
              "freq                                                    1       "
            ],
            "text/html": [
              "\n",
              "  <div id=\"df-57ed9eac-2e56-4d35-a408-fc389b9c20ac\">\n",
              "    <div class=\"colab-df-container\">\n",
              "      <div>\n",
              "<style scoped>\n",
              "    .dataframe tbody tr th:only-of-type {\n",
              "        vertical-align: middle;\n",
              "    }\n",
              "\n",
              "    .dataframe tbody tr th {\n",
              "        vertical-align: top;\n",
              "    }\n",
              "\n",
              "    .dataframe thead th {\n",
              "        text-align: right;\n",
              "    }\n",
              "</style>\n",
              "<table border=\"1\" class=\"dataframe\">\n",
              "  <thead>\n",
              "    <tr style=\"text-align: right;\">\n",
              "      <th></th>\n",
              "      <th>Data from 4ms_10 av_15 s_Absorbance_10-32-04-868.txt Node</th>\n",
              "    </tr>\n",
              "  </thead>\n",
              "  <tbody>\n",
              "    <tr>\n",
              "      <th>count</th>\n",
              "      <td>368</td>\n",
              "    </tr>\n",
              "    <tr>\n",
              "      <th>unique</th>\n",
              "      <td>368</td>\n",
              "    </tr>\n",
              "    <tr>\n",
              "      <th>top</th>\n",
              "      <td>Date: Thu Oct 25 10:32:04 CEST 2018</td>\n",
              "    </tr>\n",
              "    <tr>\n",
              "      <th>freq</th>\n",
              "      <td>1</td>\n",
              "    </tr>\n",
              "  </tbody>\n",
              "</table>\n",
              "</div>\n",
              "      <button class=\"colab-df-convert\" onclick=\"convertToInteractive('df-57ed9eac-2e56-4d35-a408-fc389b9c20ac')\"\n",
              "              title=\"Convert this dataframe to an interactive table.\"\n",
              "              style=\"display:none;\">\n",
              "        \n",
              "  <svg xmlns=\"http://www.w3.org/2000/svg\" height=\"24px\"viewBox=\"0 0 24 24\"\n",
              "       width=\"24px\">\n",
              "    <path d=\"M0 0h24v24H0V0z\" fill=\"none\"/>\n",
              "    <path d=\"M18.56 5.44l.94 2.06.94-2.06 2.06-.94-2.06-.94-.94-2.06-.94 2.06-2.06.94zm-11 1L8.5 8.5l.94-2.06 2.06-.94-2.06-.94L8.5 2.5l-.94 2.06-2.06.94zm10 10l.94 2.06.94-2.06 2.06-.94-2.06-.94-.94-2.06-.94 2.06-2.06.94z\"/><path d=\"M17.41 7.96l-1.37-1.37c-.4-.4-.92-.59-1.43-.59-.52 0-1.04.2-1.43.59L10.3 9.45l-7.72 7.72c-.78.78-.78 2.05 0 2.83L4 21.41c.39.39.9.59 1.41.59.51 0 1.02-.2 1.41-.59l7.78-7.78 2.81-2.81c.8-.78.8-2.07 0-2.86zM5.41 20L4 18.59l7.72-7.72 1.47 1.35L5.41 20z\"/>\n",
              "  </svg>\n",
              "      </button>\n",
              "      \n",
              "  <style>\n",
              "    .colab-df-container {\n",
              "      display:flex;\n",
              "      flex-wrap:wrap;\n",
              "      gap: 12px;\n",
              "    }\n",
              "\n",
              "    .colab-df-convert {\n",
              "      background-color: #E8F0FE;\n",
              "      border: none;\n",
              "      border-radius: 50%;\n",
              "      cursor: pointer;\n",
              "      display: none;\n",
              "      fill: #1967D2;\n",
              "      height: 32px;\n",
              "      padding: 0 0 0 0;\n",
              "      width: 32px;\n",
              "    }\n",
              "\n",
              "    .colab-df-convert:hover {\n",
              "      background-color: #E2EBFA;\n",
              "      box-shadow: 0px 1px 2px rgba(60, 64, 67, 0.3), 0px 1px 3px 1px rgba(60, 64, 67, 0.15);\n",
              "      fill: #174EA6;\n",
              "    }\n",
              "\n",
              "    [theme=dark] .colab-df-convert {\n",
              "      background-color: #3B4455;\n",
              "      fill: #D2E3FC;\n",
              "    }\n",
              "\n",
              "    [theme=dark] .colab-df-convert:hover {\n",
              "      background-color: #434B5C;\n",
              "      box-shadow: 0px 1px 3px 1px rgba(0, 0, 0, 0.15);\n",
              "      filter: drop-shadow(0px 1px 2px rgba(0, 0, 0, 0.3));\n",
              "      fill: #FFFFFF;\n",
              "    }\n",
              "  </style>\n",
              "\n",
              "      <script>\n",
              "        const buttonEl =\n",
              "          document.querySelector('#df-57ed9eac-2e56-4d35-a408-fc389b9c20ac button.colab-df-convert');\n",
              "        buttonEl.style.display =\n",
              "          google.colab.kernel.accessAllowed ? 'block' : 'none';\n",
              "\n",
              "        async function convertToInteractive(key) {\n",
              "          const element = document.querySelector('#df-57ed9eac-2e56-4d35-a408-fc389b9c20ac');\n",
              "          const dataTable =\n",
              "            await google.colab.kernel.invokeFunction('convertToInteractive',\n",
              "                                                     [key], {});\n",
              "          if (!dataTable) return;\n",
              "\n",
              "          const docLinkHtml = 'Like what you see? Visit the ' +\n",
              "            '<a target=\"_blank\" href=https://colab.research.google.com/notebooks/data_table.ipynb>data table notebook</a>'\n",
              "            + ' to learn more about interactive tables.';\n",
              "          element.innerHTML = '';\n",
              "          dataTable['output_type'] = 'display_data';\n",
              "          await google.colab.output.renderOutput(dataTable, element);\n",
              "          const docLink = document.createElement('div');\n",
              "          docLink.innerHTML = docLinkHtml;\n",
              "          element.appendChild(docLink);\n",
              "        }\n",
              "      </script>\n",
              "    </div>\n",
              "  </div>\n",
              "  "
            ]
          },
          "metadata": {},
          "execution_count": 7
        }
      ]
    },
    {
      "cell_type": "markdown",
      "source": [
        "**Accessing columns:**\n",
        "\n",
        "Work with the name of the column:"
      ],
      "metadata": {
        "id": "ZKn_82AM6k8l"
      }
    },
    {
      "cell_type": "code",
      "source": [
        "some_column = vaccine['daily_vaccinations']\n",
        "some_column"
      ],
      "metadata": {
        "colab": {
          "base_uri": "https://localhost:8080/"
        },
        "id": "dYrVXncI6vm1",
        "outputId": "1d4343cf-6e94-44a1-f569-19f865eb9da6"
      },
      "execution_count": null,
      "outputs": [
        {
          "output_type": "execute_result",
          "data": {
            "text/plain": [
              "0           NaN\n",
              "1          64.0\n",
              "2          64.0\n",
              "3          63.0\n",
              "4          66.0\n",
              "         ...   \n",
              "3614    24418.0\n",
              "3615    23033.0\n",
              "3616    22012.0\n",
              "3617    20649.0\n",
              "3618    18891.0\n",
              "Name: daily_vaccinations, Length: 3619, dtype: float64"
            ]
          },
          "metadata": {},
          "execution_count": 8
        }
      ]
    },
    {
      "cell_type": "markdown",
      "source": [
        "**Work with values in a column:**\n",
        "- single column is of type *series*\n",
        "- composed of indexes (0, 1 , ...) and corresponding values (here: NaN, 64.0, ...)\n",
        "\n",
        "\n",
        "Obtain list of values: "
      ],
      "metadata": {
        "id": "80YAviIR7NBD"
      }
    },
    {
      "cell_type": "code",
      "source": [
        "actual_values = some_column.values\n",
        "actual_values"
      ],
      "metadata": {
        "colab": {
          "base_uri": "https://localhost:8080/"
        },
        "id": "aEmGMY8B7w8I",
        "outputId": "e53ae2bd-7b27-4ed3-a42b-e1bdc484e756"
      },
      "execution_count": null,
      "outputs": [
        {
          "output_type": "execute_result",
          "data": {
            "text/plain": [
              "array([   nan,    64.,    64., ..., 22012., 20649., 18891.])"
            ]
          },
          "metadata": {},
          "execution_count": 9
        }
      ]
    },
    {
      "cell_type": "markdown",
      "source": [
        "### Task Week 2\n",
        "\n",
        "\n",
        "1. In the Data folder on Ilias there is the data file CCD-Data.txt. Upload this file to a folder on your google drive. If you don't have a google account, make it now. Look at the file by clicking on it. Try to make sense of the data with the help of the metadata file also in the Ilias folder. \n",
        "\n",
        "2. Mount the file to this your notebook (example code below). The path and the file name must match the ones on your google drive, of course.\n",
        "\n",
        "3. Try to understand based on the API description (https://pandas.pydata.org/docs/reference/api/pandas.read_csv.html) and find out how to read the data into a DataFrame without the header information. Hint: Use the header argument.\n",
        "\n",
        "4. Study this dataset a bit with df.info() and df.describe() methods. How big is the dataset: How many rows, how many columns, how much space in the memory? \n",
        "\n",
        "\n"
      ],
      "metadata": {
        "id": "TsAolNvJ9yo1"
      }
    },
    {
      "cell_type": "code",
      "source": [
        "from google.colab import drive\n",
        "drive.mount('/content/drive')\n",
        "path = '/content/drive/MyDrive/DSF/CCD-Data.txt'\n",
        "df = pd.read_csv(path, delimiter='\\t', header=13)\n",
        "\n",
        "print('\\nDF:\\n', df)\n",
        "\n",
        "print('\\nInfo:\\n')\n",
        "df.info()\n",
        "\n",
        "print('\\nDescribe:\\n')\n",
        "df.describe()\n",
        "\n"
      ],
      "metadata": {
        "colab": {
          "base_uri": "https://localhost:8080/",
          "height": 1000
        },
        "id": "KmDQ5CaT7Wih",
        "outputId": "86073b98-9fe8-482f-f5aa-f806060d4489"
      },
      "execution_count": null,
      "outputs": [
        {
          "output_type": "stream",
          "name": "stdout",
          "text": [
            "Drive already mounted at /content/drive; to attempt to forcibly remount, call drive.mount(\"/content/drive\", force_remount=True).\n",
            "\n",
            "DF:\n",
            "                      Unnamed: 0     Unnamed: 1  316.6137  316.7492  316.8847  \\\n",
            "0    2018-10-25 10:32:04.789000  1540456324789  0.329672  0.329672  0.329672   \n",
            "1    2018-10-25 10:32:04.878000  1540456324878 -0.044412 -0.044412 -0.044412   \n",
            "2    2018-10-25 10:32:04.962000  1540456324962  0.338219  0.338219  0.338219   \n",
            "3    2018-10-25 10:32:05.046000  1540456325046 -0.049682 -0.049682 -0.049682   \n",
            "4    2018-10-25 10:32:05.129000  1540456325129  0.335086  0.335086  0.335086   \n",
            "..                          ...            ...       ...       ...       ...   \n",
            "350  2018-10-25 10:32:34.404000  1540456354404 -0.048929 -0.048929 -0.048929   \n",
            "351  2018-10-25 10:32:34.488000  1540456354488  0.851907  0.851907  0.851907   \n",
            "352  2018-10-25 10:32:34.576000  1540456354576  0.329255  0.329255  0.329255   \n",
            "353  2018-10-25 10:32:34.660000  1540456354660  0.330061  0.330061  0.330061   \n",
            "354  2018-10-25 10:32:34.744000  1540456354744  0.101879  0.101879  0.101879   \n",
            "\n",
            "     317.0203  317.1558  317.2913  317.4268  317.5623  ...  778.9703  \\\n",
            "0    0.090294 -0.716926 -1.829304 -0.686330 -0.428776  ... -0.038483   \n",
            "1    0.157632 -0.672423 -2.183981 -0.492421 -0.000000  ... -0.039428   \n",
            "2    0.330993 -0.879836 -0.000000 -0.559845 -0.000000  ... -0.037725   \n",
            "3    0.519086 -0.681150 -0.000000 -0.417230 -0.000000  ... -0.037613   \n",
            "4   -0.041393 -0.000000 -1.802774 -0.510417 -0.000000  ... -0.040919   \n",
            "..        ...       ...       ...       ...       ...  ...       ...   \n",
            "350 -0.052674 -0.739370 -2.155336 -0.520450 -0.000000  ... -0.038112   \n",
            "351 -0.111298 -0.639166 -2.039414 -0.531784 -0.000000  ... -0.036887   \n",
            "352  0.064351  0.316582 -2.107210 -0.298427  0.570461  ... -0.037311   \n",
            "353  0.081473 -0.525273 -1.750123 -0.134352  0.243550  ... -0.036267   \n",
            "354  0.177809 -0.456259 -0.000000 -0.157833 -0.376095  ... -0.037316   \n",
            "\n",
            "      779.089  779.2076  779.3263  779.4449  779.5636  779.6822  779.8008  \\\n",
            "0   -0.039623 -0.036920 -0.037309 -0.037299 -0.037476 -0.036856 -0.036853   \n",
            "1   -0.038486 -0.037309 -0.036357 -0.037289 -0.038728 -0.037214 -0.036902   \n",
            "2   -0.037534 -0.036560 -0.036152 -0.036554 -0.036875 -0.037351 -0.036746   \n",
            "3   -0.037168 -0.036369 -0.034549 -0.036252 -0.037948 -0.036713 -0.035706   \n",
            "4   -0.038288 -0.035840 -0.035638 -0.039504 -0.040093 -0.039953 -0.037656   \n",
            "..        ...       ...       ...       ...       ...       ...       ...   \n",
            "350 -0.036615 -0.035938 -0.034245 -0.035340 -0.037055 -0.035771 -0.036557   \n",
            "351 -0.036921 -0.035249 -0.033394 -0.035231 -0.035815 -0.037457 -0.035020   \n",
            "352 -0.036231 -0.037977 -0.033525 -0.035225 -0.036255 -0.036670 -0.036079   \n",
            "353 -0.036341 -0.037307 -0.035010 -0.036073 -0.036282 -0.036911 -0.036554   \n",
            "354 -0.035830 -0.036852 -0.034170 -0.034227 -0.035085 -0.035308 -0.034768   \n",
            "\n",
            "     779.9194  780.0381  \n",
            "0   -0.039100 -0.035545  \n",
            "1   -0.040210 -0.038165  \n",
            "2   -0.038686 -0.036903  \n",
            "3   -0.038203 -0.036822  \n",
            "4   -0.038082 -0.035900  \n",
            "..        ...       ...  \n",
            "350 -0.037451 -0.033582  \n",
            "351 -0.038338 -0.035408  \n",
            "352 -0.038006 -0.035039  \n",
            "353 -0.037560 -0.034496  \n",
            "354 -0.036334 -0.034725  \n",
            "\n",
            "[355 rows x 3650 columns]\n",
            "\n",
            "Info:\n",
            "\n",
            "<class 'pandas.core.frame.DataFrame'>\n",
            "RangeIndex: 355 entries, 0 to 354\n",
            "Columns: 3650 entries, Unnamed: 0 to 780.0381\n",
            "dtypes: float64(3648), int64(1), object(1)\n",
            "memory usage: 9.9+ MB\n",
            "\n",
            "Describe:\n",
            "\n"
          ]
        },
        {
          "output_type": "execute_result",
          "data": {
            "text/plain": [
              "         Unnamed: 1    316.6137    316.7492    316.8847    317.0203  \\\n",
              "count  3.550000e+02  355.000000  355.000000  355.000000  355.000000   \n",
              "mean   1.540456e+12    0.409207    0.409207    0.409207    0.120755   \n",
              "std    8.676718e+03    0.327439    0.327439    0.327439    0.225739   \n",
              "min    1.540456e+12   -0.243277   -0.243277   -0.243277   -0.504316   \n",
              "25%    1.540456e+12    0.103420    0.103420    0.103420   -0.016814   \n",
              "50%    1.540456e+12    0.330891    0.330891    0.330891    0.076447   \n",
              "75%    1.540456e+12    0.844202    0.844202    0.844202    0.212742   \n",
              "max    1.540456e+12    0.871232    0.871232    0.871232    2.056905   \n",
              "\n",
              "         317.1558    317.2913    317.4268    317.5623    317.6977  ...  \\\n",
              "count  355.000000  355.000000  355.000000  355.000000  355.000000  ...   \n",
              "mean    -0.332947   -1.138412   -0.273126    0.036164   -0.026767  ...   \n",
              "std      0.368498    0.926140    0.318666    0.331674    0.756225  ...   \n",
              "min     -0.879836   -2.446382   -0.772345   -0.629352   -0.809866  ...   \n",
              "25%     -0.600144   -1.975407   -0.483988   -0.005090   -0.200815  ...   \n",
              "50%     -0.424603   -1.462398   -0.339107    0.000000    0.000000  ...   \n",
              "75%     -0.124390   -0.000000   -0.114209    0.016706   -0.000000  ...   \n",
              "max      1.344611    0.301030    1.797614    2.025306   12.746800  ...   \n",
              "\n",
              "         778.9703     779.089    779.2076    779.3263    779.4449    779.5636  \\\n",
              "count  355.000000  355.000000  355.000000  355.000000  355.000000  355.000000   \n",
              "mean    -0.037705   -0.037621   -0.036954   -0.035224   -0.037010   -0.036702   \n",
              "std      0.001611    0.001573    0.001648    0.001574    0.001522    0.001571   \n",
              "min     -0.041032   -0.040494   -0.039786   -0.039203   -0.040537   -0.040524   \n",
              "25%     -0.038473   -0.038412   -0.037876   -0.036055   -0.037728   -0.037505   \n",
              "50%     -0.037737   -0.037731   -0.036998   -0.035267   -0.037119   -0.036722   \n",
              "75%     -0.037022   -0.036934   -0.036270   -0.034529   -0.036315   -0.035969   \n",
              "max     -0.016370   -0.016801   -0.014841   -0.014077   -0.017539   -0.015907   \n",
              "\n",
              "         779.6822    779.8008    779.9194    780.0381  \n",
              "count  355.000000  355.000000  355.000000  355.000000  \n",
              "mean    -0.037107   -0.036634   -0.037724   -0.035371  \n",
              "std      0.001649    0.001624    0.001545    0.001536  \n",
              "min     -0.040304   -0.039905   -0.040929   -0.038231  \n",
              "25%     -0.037930   -0.037541   -0.038611   -0.036165  \n",
              "50%     -0.037191   -0.036708   -0.037786   -0.035425  \n",
              "75%     -0.036296   -0.035855   -0.036984   -0.034661  \n",
              "max     -0.016059   -0.015445   -0.016981   -0.014757  \n",
              "\n",
              "[8 rows x 3649 columns]"
            ],
            "text/html": [
              "\n",
              "  <div id=\"df-5e72a018-fc3d-46d3-8c2e-c21f7e85a7db\">\n",
              "    <div class=\"colab-df-container\">\n",
              "      <div>\n",
              "<style scoped>\n",
              "    .dataframe tbody tr th:only-of-type {\n",
              "        vertical-align: middle;\n",
              "    }\n",
              "\n",
              "    .dataframe tbody tr th {\n",
              "        vertical-align: top;\n",
              "    }\n",
              "\n",
              "    .dataframe thead th {\n",
              "        text-align: right;\n",
              "    }\n",
              "</style>\n",
              "<table border=\"1\" class=\"dataframe\">\n",
              "  <thead>\n",
              "    <tr style=\"text-align: right;\">\n",
              "      <th></th>\n",
              "      <th>Unnamed: 1</th>\n",
              "      <th>316.6137</th>\n",
              "      <th>316.7492</th>\n",
              "      <th>316.8847</th>\n",
              "      <th>317.0203</th>\n",
              "      <th>317.1558</th>\n",
              "      <th>317.2913</th>\n",
              "      <th>317.4268</th>\n",
              "      <th>317.5623</th>\n",
              "      <th>317.6977</th>\n",
              "      <th>...</th>\n",
              "      <th>778.9703</th>\n",
              "      <th>779.089</th>\n",
              "      <th>779.2076</th>\n",
              "      <th>779.3263</th>\n",
              "      <th>779.4449</th>\n",
              "      <th>779.5636</th>\n",
              "      <th>779.6822</th>\n",
              "      <th>779.8008</th>\n",
              "      <th>779.9194</th>\n",
              "      <th>780.0381</th>\n",
              "    </tr>\n",
              "  </thead>\n",
              "  <tbody>\n",
              "    <tr>\n",
              "      <th>count</th>\n",
              "      <td>3.550000e+02</td>\n",
              "      <td>355.000000</td>\n",
              "      <td>355.000000</td>\n",
              "      <td>355.000000</td>\n",
              "      <td>355.000000</td>\n",
              "      <td>355.000000</td>\n",
              "      <td>355.000000</td>\n",
              "      <td>355.000000</td>\n",
              "      <td>355.000000</td>\n",
              "      <td>355.000000</td>\n",
              "      <td>...</td>\n",
              "      <td>355.000000</td>\n",
              "      <td>355.000000</td>\n",
              "      <td>355.000000</td>\n",
              "      <td>355.000000</td>\n",
              "      <td>355.000000</td>\n",
              "      <td>355.000000</td>\n",
              "      <td>355.000000</td>\n",
              "      <td>355.000000</td>\n",
              "      <td>355.000000</td>\n",
              "      <td>355.000000</td>\n",
              "    </tr>\n",
              "    <tr>\n",
              "      <th>mean</th>\n",
              "      <td>1.540456e+12</td>\n",
              "      <td>0.409207</td>\n",
              "      <td>0.409207</td>\n",
              "      <td>0.409207</td>\n",
              "      <td>0.120755</td>\n",
              "      <td>-0.332947</td>\n",
              "      <td>-1.138412</td>\n",
              "      <td>-0.273126</td>\n",
              "      <td>0.036164</td>\n",
              "      <td>-0.026767</td>\n",
              "      <td>...</td>\n",
              "      <td>-0.037705</td>\n",
              "      <td>-0.037621</td>\n",
              "      <td>-0.036954</td>\n",
              "      <td>-0.035224</td>\n",
              "      <td>-0.037010</td>\n",
              "      <td>-0.036702</td>\n",
              "      <td>-0.037107</td>\n",
              "      <td>-0.036634</td>\n",
              "      <td>-0.037724</td>\n",
              "      <td>-0.035371</td>\n",
              "    </tr>\n",
              "    <tr>\n",
              "      <th>std</th>\n",
              "      <td>8.676718e+03</td>\n",
              "      <td>0.327439</td>\n",
              "      <td>0.327439</td>\n",
              "      <td>0.327439</td>\n",
              "      <td>0.225739</td>\n",
              "      <td>0.368498</td>\n",
              "      <td>0.926140</td>\n",
              "      <td>0.318666</td>\n",
              "      <td>0.331674</td>\n",
              "      <td>0.756225</td>\n",
              "      <td>...</td>\n",
              "      <td>0.001611</td>\n",
              "      <td>0.001573</td>\n",
              "      <td>0.001648</td>\n",
              "      <td>0.001574</td>\n",
              "      <td>0.001522</td>\n",
              "      <td>0.001571</td>\n",
              "      <td>0.001649</td>\n",
              "      <td>0.001624</td>\n",
              "      <td>0.001545</td>\n",
              "      <td>0.001536</td>\n",
              "    </tr>\n",
              "    <tr>\n",
              "      <th>min</th>\n",
              "      <td>1.540456e+12</td>\n",
              "      <td>-0.243277</td>\n",
              "      <td>-0.243277</td>\n",
              "      <td>-0.243277</td>\n",
              "      <td>-0.504316</td>\n",
              "      <td>-0.879836</td>\n",
              "      <td>-2.446382</td>\n",
              "      <td>-0.772345</td>\n",
              "      <td>-0.629352</td>\n",
              "      <td>-0.809866</td>\n",
              "      <td>...</td>\n",
              "      <td>-0.041032</td>\n",
              "      <td>-0.040494</td>\n",
              "      <td>-0.039786</td>\n",
              "      <td>-0.039203</td>\n",
              "      <td>-0.040537</td>\n",
              "      <td>-0.040524</td>\n",
              "      <td>-0.040304</td>\n",
              "      <td>-0.039905</td>\n",
              "      <td>-0.040929</td>\n",
              "      <td>-0.038231</td>\n",
              "    </tr>\n",
              "    <tr>\n",
              "      <th>25%</th>\n",
              "      <td>1.540456e+12</td>\n",
              "      <td>0.103420</td>\n",
              "      <td>0.103420</td>\n",
              "      <td>0.103420</td>\n",
              "      <td>-0.016814</td>\n",
              "      <td>-0.600144</td>\n",
              "      <td>-1.975407</td>\n",
              "      <td>-0.483988</td>\n",
              "      <td>-0.005090</td>\n",
              "      <td>-0.200815</td>\n",
              "      <td>...</td>\n",
              "      <td>-0.038473</td>\n",
              "      <td>-0.038412</td>\n",
              "      <td>-0.037876</td>\n",
              "      <td>-0.036055</td>\n",
              "      <td>-0.037728</td>\n",
              "      <td>-0.037505</td>\n",
              "      <td>-0.037930</td>\n",
              "      <td>-0.037541</td>\n",
              "      <td>-0.038611</td>\n",
              "      <td>-0.036165</td>\n",
              "    </tr>\n",
              "    <tr>\n",
              "      <th>50%</th>\n",
              "      <td>1.540456e+12</td>\n",
              "      <td>0.330891</td>\n",
              "      <td>0.330891</td>\n",
              "      <td>0.330891</td>\n",
              "      <td>0.076447</td>\n",
              "      <td>-0.424603</td>\n",
              "      <td>-1.462398</td>\n",
              "      <td>-0.339107</td>\n",
              "      <td>0.000000</td>\n",
              "      <td>0.000000</td>\n",
              "      <td>...</td>\n",
              "      <td>-0.037737</td>\n",
              "      <td>-0.037731</td>\n",
              "      <td>-0.036998</td>\n",
              "      <td>-0.035267</td>\n",
              "      <td>-0.037119</td>\n",
              "      <td>-0.036722</td>\n",
              "      <td>-0.037191</td>\n",
              "      <td>-0.036708</td>\n",
              "      <td>-0.037786</td>\n",
              "      <td>-0.035425</td>\n",
              "    </tr>\n",
              "    <tr>\n",
              "      <th>75%</th>\n",
              "      <td>1.540456e+12</td>\n",
              "      <td>0.844202</td>\n",
              "      <td>0.844202</td>\n",
              "      <td>0.844202</td>\n",
              "      <td>0.212742</td>\n",
              "      <td>-0.124390</td>\n",
              "      <td>-0.000000</td>\n",
              "      <td>-0.114209</td>\n",
              "      <td>0.016706</td>\n",
              "      <td>-0.000000</td>\n",
              "      <td>...</td>\n",
              "      <td>-0.037022</td>\n",
              "      <td>-0.036934</td>\n",
              "      <td>-0.036270</td>\n",
              "      <td>-0.034529</td>\n",
              "      <td>-0.036315</td>\n",
              "      <td>-0.035969</td>\n",
              "      <td>-0.036296</td>\n",
              "      <td>-0.035855</td>\n",
              "      <td>-0.036984</td>\n",
              "      <td>-0.034661</td>\n",
              "    </tr>\n",
              "    <tr>\n",
              "      <th>max</th>\n",
              "      <td>1.540456e+12</td>\n",
              "      <td>0.871232</td>\n",
              "      <td>0.871232</td>\n",
              "      <td>0.871232</td>\n",
              "      <td>2.056905</td>\n",
              "      <td>1.344611</td>\n",
              "      <td>0.301030</td>\n",
              "      <td>1.797614</td>\n",
              "      <td>2.025306</td>\n",
              "      <td>12.746800</td>\n",
              "      <td>...</td>\n",
              "      <td>-0.016370</td>\n",
              "      <td>-0.016801</td>\n",
              "      <td>-0.014841</td>\n",
              "      <td>-0.014077</td>\n",
              "      <td>-0.017539</td>\n",
              "      <td>-0.015907</td>\n",
              "      <td>-0.016059</td>\n",
              "      <td>-0.015445</td>\n",
              "      <td>-0.016981</td>\n",
              "      <td>-0.014757</td>\n",
              "    </tr>\n",
              "  </tbody>\n",
              "</table>\n",
              "<p>8 rows × 3649 columns</p>\n",
              "</div>\n",
              "      <button class=\"colab-df-convert\" onclick=\"convertToInteractive('df-5e72a018-fc3d-46d3-8c2e-c21f7e85a7db')\"\n",
              "              title=\"Convert this dataframe to an interactive table.\"\n",
              "              style=\"display:none;\">\n",
              "        \n",
              "  <svg xmlns=\"http://www.w3.org/2000/svg\" height=\"24px\"viewBox=\"0 0 24 24\"\n",
              "       width=\"24px\">\n",
              "    <path d=\"M0 0h24v24H0V0z\" fill=\"none\"/>\n",
              "    <path d=\"M18.56 5.44l.94 2.06.94-2.06 2.06-.94-2.06-.94-.94-2.06-.94 2.06-2.06.94zm-11 1L8.5 8.5l.94-2.06 2.06-.94-2.06-.94L8.5 2.5l-.94 2.06-2.06.94zm10 10l.94 2.06.94-2.06 2.06-.94-2.06-.94-.94-2.06-.94 2.06-2.06.94z\"/><path d=\"M17.41 7.96l-1.37-1.37c-.4-.4-.92-.59-1.43-.59-.52 0-1.04.2-1.43.59L10.3 9.45l-7.72 7.72c-.78.78-.78 2.05 0 2.83L4 21.41c.39.39.9.59 1.41.59.51 0 1.02-.2 1.41-.59l7.78-7.78 2.81-2.81c.8-.78.8-2.07 0-2.86zM5.41 20L4 18.59l7.72-7.72 1.47 1.35L5.41 20z\"/>\n",
              "  </svg>\n",
              "      </button>\n",
              "      \n",
              "  <style>\n",
              "    .colab-df-container {\n",
              "      display:flex;\n",
              "      flex-wrap:wrap;\n",
              "      gap: 12px;\n",
              "    }\n",
              "\n",
              "    .colab-df-convert {\n",
              "      background-color: #E8F0FE;\n",
              "      border: none;\n",
              "      border-radius: 50%;\n",
              "      cursor: pointer;\n",
              "      display: none;\n",
              "      fill: #1967D2;\n",
              "      height: 32px;\n",
              "      padding: 0 0 0 0;\n",
              "      width: 32px;\n",
              "    }\n",
              "\n",
              "    .colab-df-convert:hover {\n",
              "      background-color: #E2EBFA;\n",
              "      box-shadow: 0px 1px 2px rgba(60, 64, 67, 0.3), 0px 1px 3px 1px rgba(60, 64, 67, 0.15);\n",
              "      fill: #174EA6;\n",
              "    }\n",
              "\n",
              "    [theme=dark] .colab-df-convert {\n",
              "      background-color: #3B4455;\n",
              "      fill: #D2E3FC;\n",
              "    }\n",
              "\n",
              "    [theme=dark] .colab-df-convert:hover {\n",
              "      background-color: #434B5C;\n",
              "      box-shadow: 0px 1px 3px 1px rgba(0, 0, 0, 0.15);\n",
              "      filter: drop-shadow(0px 1px 2px rgba(0, 0, 0, 0.3));\n",
              "      fill: #FFFFFF;\n",
              "    }\n",
              "  </style>\n",
              "\n",
              "      <script>\n",
              "        const buttonEl =\n",
              "          document.querySelector('#df-5e72a018-fc3d-46d3-8c2e-c21f7e85a7db button.colab-df-convert');\n",
              "        buttonEl.style.display =\n",
              "          google.colab.kernel.accessAllowed ? 'block' : 'none';\n",
              "\n",
              "        async function convertToInteractive(key) {\n",
              "          const element = document.querySelector('#df-5e72a018-fc3d-46d3-8c2e-c21f7e85a7db');\n",
              "          const dataTable =\n",
              "            await google.colab.kernel.invokeFunction('convertToInteractive',\n",
              "                                                     [key], {});\n",
              "          if (!dataTable) return;\n",
              "\n",
              "          const docLinkHtml = 'Like what you see? Visit the ' +\n",
              "            '<a target=\"_blank\" href=https://colab.research.google.com/notebooks/data_table.ipynb>data table notebook</a>'\n",
              "            + ' to learn more about interactive tables.';\n",
              "          element.innerHTML = '';\n",
              "          dataTable['output_type'] = 'display_data';\n",
              "          await google.colab.output.renderOutput(dataTable, element);\n",
              "          const docLink = document.createElement('div');\n",
              "          docLink.innerHTML = docLinkHtml;\n",
              "          element.appendChild(docLink);\n",
              "        }\n",
              "      </script>\n",
              "    </div>\n",
              "  </div>\n",
              "  "
            ]
          },
          "metadata": {},
          "execution_count": 9
        }
      ]
    },
    {
      "cell_type": "markdown",
      "source": [
        "# 03_Basic_Python_II\n",
        "\n",
        "# 04_Dataframes_Stats_Plotting\n",
        "\n",
        "### Minimal Plotting\n",
        "- Matplotlib library: oldest and still one of the most widely used plotting library\n",
        "- Almost all important functions are located in submodule `pyplot` that is almost systemaically abbreviated into `plt` \n",
        "\n",
        "**Import Matplotlib:**"
      ],
      "metadata": {
        "id": "3SaSTwNRcoLx"
      }
    },
    {
      "cell_type": "code",
      "source": [
        "import matplotlib.pyplot as plt\n"
      ],
      "metadata": {
        "id": "H-3chJZrd21W"
      },
      "execution_count": null,
      "outputs": []
    },
    {
      "cell_type": "markdown",
      "source": [
        "**Some general features:**\n",
        "\n",
        "Label axis: \n",
        "```\n",
        "plt.xlabel('label x-axis')\n",
        "plt.ylabel('label y-axis')\n",
        "```\n",
        "\n"
      ],
      "metadata": {
        "id": "ST9XzlDh1_JB"
      }
    },
    {
      "cell_type": "markdown",
      "source": [
        "### Line plot\n",
        "**Create Dataset:**\n",
        "\n",
        "We can do this using numpy: "
      ],
      "metadata": {
        "id": "QBSmKJoSe9-N"
      }
    },
    {
      "cell_type": "code",
      "source": [
        "x_val = np.arange(0, 10, 0.1)\n",
        "\n",
        "# values y axis: cosine of values x axis\n",
        "y_val = np.cos(x_val)"
      ],
      "metadata": {
        "id": "fNEVDjbTeubA"
      },
      "execution_count": null,
      "outputs": []
    },
    {
      "cell_type": "markdown",
      "source": [
        "**Create a figure object and an axis object with Matplotlib:**\n",
        "\n",
        "- figure object can contain many elements (e.g. grid of a plot9\n",
        "- axis object contains a specific plot\n",
        "\n",
        "**Get figure and axis: `subplots()' function**\n",
        "\n",
        "Produces a blank figure (plot without data)\n",
        "\n",
        "\n"
      ],
      "metadata": {
        "id": "gptP5rOufN9m"
      }
    },
    {
      "cell_type": "code",
      "source": [
        "fig, ax = plt.subplots()"
      ],
      "metadata": {
        "colab": {
          "base_uri": "https://localhost:8080/",
          "height": 269
        },
        "id": "DOXTrx4UflOE",
        "outputId": "82b3b075-9c46-4bf3-bab4-82c81fe0d88f"
      },
      "execution_count": null,
      "outputs": [
        {
          "output_type": "display_data",
          "data": {
            "text/plain": [
              "<Figure size 432x288 with 1 Axes>"
            ],
            "image/png": "[encoded data removed]"
          },
          "metadata": {
            "needs_background": "light"
          }
        }
      ]
    },
    {
      "cell_type": "markdown",
      "source": [
        "Add data to our plot:\n",
        "- call `ax.plot` function\n"
      ],
      "metadata": {
        "id": "HyM5IbtufpS9"
      }
    },
    {
      "cell_type": "code",
      "source": [
        "fig, ax = plt.subplots()\n",
        "ax.plot(x_val, y_val)"
      ],
      "metadata": {
        "colab": {
          "base_uri": "https://localhost:8080/",
          "height": 282
        },
        "id": "Fjs3MtN7ggC0",
        "outputId": "7d73507a-e64a-42d1-bf37-a5c8abfba4a7"
      },
      "execution_count": null,
      "outputs": [
        {
          "output_type": "execute_result",
          "data": {
            "text/plain": [
              "[<matplotlib.lines.Line2D at 0x7fbf63af2430>]"
            ]
          },
          "metadata": {},
          "execution_count": 14
        },
        {
          "output_type": "display_data",
          "data": {
            "text/plain": [
              "<Figure size 432x288 with 1 Axes>"
            ],
            "image/png": "[encoded data removed]"
          },
          "metadata": {
            "needs_background": "light"
          }
        }
      ]
    },
    {
      "cell_type": "markdown",
      "source": [
        "Add even more data:\n",
        "- Call `ax.plot` twice"
      ],
      "metadata": {
        "id": "fYmDErp6grsm"
      }
    },
    {
      "cell_type": "code",
      "source": [
        "y_val2 = np.sin(x_val)\n",
        "fig, ax = plt.subplots()\n",
        "ax.plot(x_val, y_val)\n",
        "ax.plot(x_val, y_val2)"
      ],
      "metadata": {
        "colab": {
          "base_uri": "https://localhost:8080/",
          "height": 282
        },
        "id": "9G9FK0u4g2Mm",
        "outputId": "66da1673-43e0-42be-d181-15ae6d1d1927"
      },
      "execution_count": null,
      "outputs": [
        {
          "output_type": "execute_result",
          "data": {
            "text/plain": [
              "[<matplotlib.lines.Line2D at 0x7fbf63cb8910>]"
            ]
          },
          "metadata": {},
          "execution_count": 15
        },
        {
          "output_type": "display_data",
          "data": {
            "text/plain": [
              "<Figure size 432x288 with 1 Axes>"
            ],
            "image/png": "[encoded data removed]"
          },
          "metadata": {
            "needs_background": "light"
          }
        }
      ]
    },
    {
      "cell_type": "markdown",
      "source": [
        "**Change line/marker type:**\n",
        "- additional parameters\n",
        "\n",
        "Marker only (no line):\n",
        "```\n",
        "ax.plot(x_val, y_val, marker='o')\n",
        "```\n",
        "or\n",
        "```\n",
        "ax.plot(x_val, y_val, 'o')\n",
        "```\n",
        "\n",
        "Line and marker: \n",
        "```\n",
        "ax.plot(x_val, y_val, '-o')\n",
        "```"
      ],
      "metadata": {
        "id": "dVBQ99S-pRdd"
      }
    },
    {
      "cell_type": "markdown",
      "source": [
        "### Histogram\n",
        "\n",
        "- also called frequency plots\n",
        "- show probability density function (pdf) of the data sample in a column\n",
        "- if data is discrete, pdf is called pmf (probability mass function)\n",
        "- pdf is the model of the data and the basic of all statistics\n",
        "- `ax.hist()` command \n",
        "- takes only one argument (the values of the histogram)\n",
        "\n"
      ],
      "metadata": {
        "id": "PT6s4OWjhMDL"
      }
    },
    {
      "cell_type": "code",
      "source": [
        "fig, ax = plt.subplots()\n",
        "ax.hist(y_val)"
      ],
      "metadata": {
        "colab": {
          "base_uri": "https://localhost:8080/",
          "height": 352
        },
        "id": "g2QW2aToh9tk",
        "outputId": "8a204865-4b93-40d6-c9fb-04926e21402d"
      },
      "execution_count": null,
      "outputs": [
        {
          "output_type": "execute_result",
          "data": {
            "text/plain": [
              "(array([25.,  8.,  8.,  6.,  6.,  6.,  6.,  6.,  9., 20.]),\n",
              " array([-9.99693042e-01, -7.99723738e-01, -5.99754434e-01, -3.99785129e-01,\n",
              "        -1.99815825e-01,  1.53478982e-04,  2.00122783e-01,  4.00092087e-01,\n",
              "         6.00061392e-01,  8.00030696e-01,  1.00000000e+00]),\n",
              " <BarContainer object of 10 artists>)"
            ]
          },
          "metadata": {},
          "execution_count": 16
        },
        {
          "output_type": "display_data",
          "data": {
            "text/plain": [
              "<Figure size 432x288 with 1 Axes>"
            ],
            "image/png": "[encoded data removed]"
          },
          "metadata": {
            "needs_background": "light"
          }
        }
      ]
    },
    {
      "cell_type": "markdown",
      "source": [
        "If default bin size not satisfactory:\n",
        "- specify positions of the bins using `bin` argument\n",
        "\n"
      ],
      "metadata": {
        "id": "qfy8d8VWiHdI"
      }
    },
    {
      "cell_type": "code",
      "source": [
        "fig, ax = plt.subplots()\n",
        "ax.hist(y_val, bins=np.arange(-1,1.5,0.5))\n",
        "ax.hist(y_val, bins=10)"
      ],
      "metadata": {
        "colab": {
          "base_uri": "https://localhost:8080/",
          "height": 352
        },
        "id": "bsXal_4PiRDj",
        "outputId": "8dd0500b-6d6c-4f2e-e047-f33e479fa1b6"
      },
      "execution_count": null,
      "outputs": [
        {
          "output_type": "execute_result",
          "data": {
            "text/plain": [
              "(array([25.,  8.,  8.,  6.,  6.,  6.,  6.,  6.,  9., 20.]),\n",
              " array([-9.99693042e-01, -7.99723738e-01, -5.99754434e-01, -3.99785129e-01,\n",
              "        -1.99815825e-01,  1.53478982e-04,  2.00122783e-01,  4.00092087e-01,\n",
              "         6.00061392e-01,  8.00030696e-01,  1.00000000e+00]),\n",
              " <BarContainer object of 10 artists>)"
            ]
          },
          "metadata": {},
          "execution_count": 17
        },
        {
          "output_type": "display_data",
          "data": {
            "text/plain": [
              "<Figure size 432x288 with 1 Axes>"
            ],
            "image/png": "[encoded data removed]"
          },
          "metadata": {
            "needs_background": "light"
          }
        }
      ]
    },
    {
      "cell_type": "markdown",
      "source": [
        "**Histogram of selected columns:**\n",
        "- useful if working with dataframes\n",
        "\n",
        "Example:\n"
      ],
      "metadata": {
        "id": "olr7ZKKTwABP"
      }
    },
    {
      "cell_type": "code",
      "source": [
        "ath = '/content/drive/MyDrive/DSF/week-2/CCD-Data.txt'\n",
        "df = pd.read_csv(path, delimiter='\\t', header=13)\n",
        "\n",
        "df.hist(df.columns[4], bins=20)"
      ],
      "metadata": {
        "colab": {
          "base_uri": "https://localhost:8080/",
          "height": 298
        },
        "id": "8Sa3GRv52UT6",
        "outputId": "cc44f2c7-d2c9-427c-f1aa-b786ab51c2ae"
      },
      "execution_count": null,
      "outputs": [
        {
          "output_type": "execute_result",
          "data": {
            "text/plain": [
              "array([[<Axes: title={'center': '316.8847'}>]], dtype=object)"
            ]
          },
          "metadata": {},
          "execution_count": 18
        },
        {
          "output_type": "display_data",
          "data": {
            "text/plain": [
              "<Figure size 432x288 with 1 Axes>"
            ],
            "image/png": "[encoded data removed]"
          },
          "metadata": {
            "needs_background": "light"
          }
        }
      ]
    },
    {
      "cell_type": "markdown",
      "source": [
        "Several columns: \n"
      ],
      "metadata": {
        "id": "OJ1yBK6m2f6T"
      }
    },
    {
      "cell_type": "code",
      "source": [
        "plt.figure()\n",
        "ax = df.hist(df.columns[2], bins=20)\n",
        "df.hist(df.columns[4], bins=20, ax=ax)\n",
        "plt.show()"
      ],
      "metadata": {
        "colab": {
          "base_uri": "https://localhost:8080/",
          "height": 298
        },
        "id": "p2G_mYV-2hjf",
        "outputId": "68ef9d54-e005-4059-e995-5593493217d1"
      },
      "execution_count": null,
      "outputs": [
        {
          "output_type": "display_data",
          "data": {
            "text/plain": [
              "<Figure size 432x288 with 0 Axes>"
            ]
          },
          "metadata": {}
        },
        {
          "output_type": "display_data",
          "data": {
            "text/plain": [
              "<Figure size 432x288 with 1 Axes>"
            ],
            "image/png": "[encoded data removed]"
          },
          "metadata": {
            "needs_background": "light"
          }
        }
      ]
    },
    {
      "cell_type": "markdown",
      "source": [
        "### Boxplots\n",
        "- Useful to show differences between groups of data\n",
        "- Shows median, interquartile range (IQR), 95% or 99% range and outliners\n",
        "\n",
        "Example: \n"
      ],
      "metadata": {
        "id": "bPeg5u-P1JpS"
      }
    },
    {
      "cell_type": "code",
      "source": [
        "path = '/content/drive/MyDrive/DSF/week-2/CCD-Data.txt'\n",
        "df = pd.read_csv(path, delimiter='\\t', header=13)\n",
        "\n",
        "df.boxplot([df.columns[2], df.columns[3], df.columns[4]])"
      ],
      "metadata": {
        "colab": {
          "base_uri": "https://localhost:8080/",
          "height": 282
        },
        "id": "Y1JrD3vl1Yka",
        "outputId": "f254fdb5-c41c-4734-c387-5dc4d1e2bebb"
      },
      "execution_count": null,
      "outputs": [
        {
          "output_type": "execute_result",
          "data": {
            "text/plain": [
              "<Axes: >"
            ]
          },
          "metadata": {},
          "execution_count": 20
        },
        {
          "output_type": "display_data",
          "data": {
            "text/plain": [
              "<Figure size 432x288 with 1 Axes>"
            ],
            "image/png": "[encoded data removed]"
          },
          "metadata": {
            "needs_background": "light"
          }
        }
      ]
    },
    {
      "cell_type": "markdown",
      "source": [
        "### Scatter Plots\n",
        "- Correlations between columns \n",
        "\n",
        "Simplest example:"
      ],
      "metadata": {
        "id": "52UpVedj3LI3"
      }
    },
    {
      "cell_type": "code",
      "source": [
        "path = '/content/drive/MyDrive/DSF/week-2/CCD-Data.txt'\n",
        "df = pd.read_csv(path, delimiter='\\t', header=13)\n",
        "\n",
        "df.plot.scatter(2,3)\n",
        "# 2 and 3 are the columns\n",
        "# correspond to the wavelengths indicated in the axis labels"
      ],
      "metadata": {
        "colab": {
          "base_uri": "https://localhost:8080/",
          "height": 351
        },
        "id": "r2SKjpEA3UGt",
        "outputId": "1bb1f0f8-aab2-4431-9828-9cd9e496dd3b"
      },
      "execution_count": null,
      "outputs": [
        {
          "output_type": "stream",
          "name": "stderr",
          "text": [
            "/usr/local/lib/python3.9/dist-packages/pandas/plotting/_matplotlib/core.py:1114: UserWarning: No data for colormapping provided via 'c'. Parameters 'cmap' will be ignored\n",
            "  scatter = ax.scatter(\n"
          ]
        },
        {
          "output_type": "execute_result",
          "data": {
            "text/plain": [
              "<Axes: xlabel='316.6137', ylabel='316.7492'>"
            ]
          },
          "metadata": {},
          "execution_count": 21
        },
        {
          "output_type": "display_data",
          "data": {
            "text/plain": [
              "<Figure size 432x288 with 1 Axes>"
            ],
            "image/png": "[encoded data removed]"
          },
          "metadata": {
            "needs_background": "light"
          }
        }
      ]
    },
    {
      "cell_type": "markdown",
      "source": [
        "## Plotting and Descriptive Statistics on Dataframes\n",
        "- Many plotting options for Pandas Dataframes\n",
        "- Check out link: https://pandas.pydata.org/docs/reference/frame.html#plotting\n",
        "\n",
        "\n",
        "### Plot Dataframe as Histogram\n",
        "Histogram of all the columns: \n",
        "- Caution, can take quite long\n",
        "```\n",
        "df.plot.hist()\n",
        "```\n",
        "\n",
        "Histogram of selected columns:\n",
        "```\n",
        "df.hist(df.columns[2], bins=20)\n",
        "```\n",
        "\n",
        "### Descriptive Statistics\n",
        "- Pandas Dataframes have several descriptive statistics methods: https://pandas.pydata.org/docs/reference/frame.html#computations-descriptive-stats\n",
        "- Most of them are calculations based on the so-called moments of the pdf (pdf = probability density function)\n",
        "- For example mean, variance, standard deviation, skew, kurtosis, minimum value, maximum value, quantiles, p-value, ...)\n",
        "- Many of those properties shown if `describe` method is used\n",
        "\n",
        "Example: "
      ],
      "metadata": {
        "id": "4EkoMU9uqA-i"
      }
    },
    {
      "cell_type": "code",
      "source": [
        "path = '/content/drive/MyDrive/DSF/CCD-Data.txt'\n",
        "df = pd.read_csv(path, delimiter='\\t', header=13)\n",
        "\n",
        "#describe method; output rounded to two values behind comma\n",
        "\n",
        "round(df.describe(),2)\n"
      ],
      "metadata": {
        "colab": {
          "base_uri": "https://localhost:8080/",
          "height": 393
        },
        "id": "AH6ALwNp4ele",
        "outputId": "057237f6-4ab5-4924-dd3e-c4536bf5f1cf"
      },
      "execution_count": null,
      "outputs": [
        {
          "output_type": "execute_result",
          "data": {
            "text/plain": [
              "         Unnamed: 1  316.6137  316.7492  316.8847  317.0203  317.1558  \\\n",
              "count  3.550000e+02    355.00    355.00    355.00    355.00    355.00   \n",
              "mean   1.540456e+12      0.41      0.41      0.41      0.12     -0.33   \n",
              "std    8.676720e+03      0.33      0.33      0.33      0.23      0.37   \n",
              "min    1.540456e+12     -0.24     -0.24     -0.24     -0.50     -0.88   \n",
              "25%    1.540456e+12      0.10      0.10      0.10     -0.02     -0.60   \n",
              "50%    1.540456e+12      0.33      0.33      0.33      0.08     -0.42   \n",
              "75%    1.540456e+12      0.84      0.84      0.84      0.21     -0.12   \n",
              "max    1.540456e+12      0.87      0.87      0.87      2.06      1.34   \n",
              "\n",
              "       317.2913  317.4268  317.5623  317.6977  ...  778.9703  779.089  \\\n",
              "count    355.00    355.00    355.00    355.00  ...    355.00   355.00   \n",
              "mean      -1.14     -0.27      0.04     -0.03  ...     -0.04    -0.04   \n",
              "std        0.93      0.32      0.33      0.76  ...      0.00     0.00   \n",
              "min       -2.45     -0.77     -0.63     -0.81  ...     -0.04    -0.04   \n",
              "25%       -1.98     -0.48     -0.01     -0.20  ...     -0.04    -0.04   \n",
              "50%       -1.46     -0.34      0.00      0.00  ...     -0.04    -0.04   \n",
              "75%       -0.00     -0.11      0.02     -0.00  ...     -0.04    -0.04   \n",
              "max        0.30      1.80      2.03     12.75  ...     -0.02    -0.02   \n",
              "\n",
              "       779.2076  779.3263  779.4449  779.5636  779.6822  779.8008  779.9194  \\\n",
              "count    355.00    355.00    355.00    355.00    355.00    355.00    355.00   \n",
              "mean      -0.04     -0.04     -0.04     -0.04     -0.04     -0.04     -0.04   \n",
              "std        0.00      0.00      0.00      0.00      0.00      0.00      0.00   \n",
              "min       -0.04     -0.04     -0.04     -0.04     -0.04     -0.04     -0.04   \n",
              "25%       -0.04     -0.04     -0.04     -0.04     -0.04     -0.04     -0.04   \n",
              "50%       -0.04     -0.04     -0.04     -0.04     -0.04     -0.04     -0.04   \n",
              "75%       -0.04     -0.03     -0.04     -0.04     -0.04     -0.04     -0.04   \n",
              "max       -0.01     -0.01     -0.02     -0.02     -0.02     -0.02     -0.02   \n",
              "\n",
              "       780.0381  \n",
              "count    355.00  \n",
              "mean      -0.04  \n",
              "std        0.00  \n",
              "min       -0.04  \n",
              "25%       -0.04  \n",
              "50%       -0.04  \n",
              "75%       -0.03  \n",
              "max       -0.01  \n",
              "\n",
              "[8 rows x 3649 columns]"
            ],
            "text/html": [
              "\n",
              "  <div id=\"df-ae0cda03-9125-4d49-b752-614eff97a4cd\">\n",
              "    <div class=\"colab-df-container\">\n",
              "      <div>\n",
              "<style scoped>\n",
              "    .dataframe tbody tr th:only-of-type {\n",
              "        vertical-align: middle;\n",
              "    }\n",
              "\n",
              "    .dataframe tbody tr th {\n",
              "        vertical-align: top;\n",
              "    }\n",
              "\n",
              "    .dataframe thead th {\n",
              "        text-align: right;\n",
              "    }\n",
              "</style>\n",
              "<table border=\"1\" class=\"dataframe\">\n",
              "  <thead>\n",
              "    <tr style=\"text-align: right;\">\n",
              "      <th></th>\n",
              "      <th>Unnamed: 1</th>\n",
              "      <th>316.6137</th>\n",
              "      <th>316.7492</th>\n",
              "      <th>316.8847</th>\n",
              "      <th>317.0203</th>\n",
              "      <th>317.1558</th>\n",
              "      <th>317.2913</th>\n",
              "      <th>317.4268</th>\n",
              "      <th>317.5623</th>\n",
              "      <th>317.6977</th>\n",
              "      <th>...</th>\n",
              "      <th>778.9703</th>\n",
              "      <th>779.089</th>\n",
              "      <th>779.2076</th>\n",
              "      <th>779.3263</th>\n",
              "      <th>779.4449</th>\n",
              "      <th>779.5636</th>\n",
              "      <th>779.6822</th>\n",
              "      <th>779.8008</th>\n",
              "      <th>779.9194</th>\n",
              "      <th>780.0381</th>\n",
              "    </tr>\n",
              "  </thead>\n",
              "  <tbody>\n",
              "    <tr>\n",
              "      <th>count</th>\n",
              "      <td>3.550000e+02</td>\n",
              "      <td>355.00</td>\n",
              "      <td>355.00</td>\n",
              "      <td>355.00</td>\n",
              "      <td>355.00</td>\n",
              "      <td>355.00</td>\n",
              "      <td>355.00</td>\n",
              "      <td>355.00</td>\n",
              "      <td>355.00</td>\n",
              "      <td>355.00</td>\n",
              "      <td>...</td>\n",
              "      <td>355.00</td>\n",
              "      <td>355.00</td>\n",
              "      <td>355.00</td>\n",
              "      <td>355.00</td>\n",
              "      <td>355.00</td>\n",
              "      <td>355.00</td>\n",
              "      <td>355.00</td>\n",
              "      <td>355.00</td>\n",
              "      <td>355.00</td>\n",
              "      <td>355.00</td>\n",
              "    </tr>\n",
              "    <tr>\n",
              "      <th>mean</th>\n",
              "      <td>1.540456e+12</td>\n",
              "      <td>0.41</td>\n",
              "      <td>0.41</td>\n",
              "      <td>0.41</td>\n",
              "      <td>0.12</td>\n",
              "      <td>-0.33</td>\n",
              "      <td>-1.14</td>\n",
              "      <td>-0.27</td>\n",
              "      <td>0.04</td>\n",
              "      <td>-0.03</td>\n",
              "      <td>...</td>\n",
              "      <td>-0.04</td>\n",
              "      <td>-0.04</td>\n",
              "      <td>-0.04</td>\n",
              "      <td>-0.04</td>\n",
              "      <td>-0.04</td>\n",
              "      <td>-0.04</td>\n",
              "      <td>-0.04</td>\n",
              "      <td>-0.04</td>\n",
              "      <td>-0.04</td>\n",
              "      <td>-0.04</td>\n",
              "    </tr>\n",
              "    <tr>\n",
              "      <th>std</th>\n",
              "      <td>8.676720e+03</td>\n",
              "      <td>0.33</td>\n",
              "      <td>0.33</td>\n",
              "      <td>0.33</td>\n",
              "      <td>0.23</td>\n",
              "      <td>0.37</td>\n",
              "      <td>0.93</td>\n",
              "      <td>0.32</td>\n",
              "      <td>0.33</td>\n",
              "      <td>0.76</td>\n",
              "      <td>...</td>\n",
              "      <td>0.00</td>\n",
              "      <td>0.00</td>\n",
              "      <td>0.00</td>\n",
              "      <td>0.00</td>\n",
              "      <td>0.00</td>\n",
              "      <td>0.00</td>\n",
              "      <td>0.00</td>\n",
              "      <td>0.00</td>\n",
              "      <td>0.00</td>\n",
              "      <td>0.00</td>\n",
              "    </tr>\n",
              "    <tr>\n",
              "      <th>min</th>\n",
              "      <td>1.540456e+12</td>\n",
              "      <td>-0.24</td>\n",
              "      <td>-0.24</td>\n",
              "      <td>-0.24</td>\n",
              "      <td>-0.50</td>\n",
              "      <td>-0.88</td>\n",
              "      <td>-2.45</td>\n",
              "      <td>-0.77</td>\n",
              "      <td>-0.63</td>\n",
              "      <td>-0.81</td>\n",
              "      <td>...</td>\n",
              "      <td>-0.04</td>\n",
              "      <td>-0.04</td>\n",
              "      <td>-0.04</td>\n",
              "      <td>-0.04</td>\n",
              "      <td>-0.04</td>\n",
              "      <td>-0.04</td>\n",
              "      <td>-0.04</td>\n",
              "      <td>-0.04</td>\n",
              "      <td>-0.04</td>\n",
              "      <td>-0.04</td>\n",
              "    </tr>\n",
              "    <tr>\n",
              "      <th>25%</th>\n",
              "      <td>1.540456e+12</td>\n",
              "      <td>0.10</td>\n",
              "      <td>0.10</td>\n",
              "      <td>0.10</td>\n",
              "      <td>-0.02</td>\n",
              "      <td>-0.60</td>\n",
              "      <td>-1.98</td>\n",
              "      <td>-0.48</td>\n",
              "      <td>-0.01</td>\n",
              "      <td>-0.20</td>\n",
              "      <td>...</td>\n",
              "      <td>-0.04</td>\n",
              "      <td>-0.04</td>\n",
              "      <td>-0.04</td>\n",
              "      <td>-0.04</td>\n",
              "      <td>-0.04</td>\n",
              "      <td>-0.04</td>\n",
              "      <td>-0.04</td>\n",
              "      <td>-0.04</td>\n",
              "      <td>-0.04</td>\n",
              "      <td>-0.04</td>\n",
              "    </tr>\n",
              "    <tr>\n",
              "      <th>50%</th>\n",
              "      <td>1.540456e+12</td>\n",
              "      <td>0.33</td>\n",
              "      <td>0.33</td>\n",
              "      <td>0.33</td>\n",
              "      <td>0.08</td>\n",
              "      <td>-0.42</td>\n",
              "      <td>-1.46</td>\n",
              "      <td>-0.34</td>\n",
              "      <td>0.00</td>\n",
              "      <td>0.00</td>\n",
              "      <td>...</td>\n",
              "      <td>-0.04</td>\n",
              "      <td>-0.04</td>\n",
              "      <td>-0.04</td>\n",
              "      <td>-0.04</td>\n",
              "      <td>-0.04</td>\n",
              "      <td>-0.04</td>\n",
              "      <td>-0.04</td>\n",
              "      <td>-0.04</td>\n",
              "      <td>-0.04</td>\n",
              "      <td>-0.04</td>\n",
              "    </tr>\n",
              "    <tr>\n",
              "      <th>75%</th>\n",
              "      <td>1.540456e+12</td>\n",
              "      <td>0.84</td>\n",
              "      <td>0.84</td>\n",
              "      <td>0.84</td>\n",
              "      <td>0.21</td>\n",
              "      <td>-0.12</td>\n",
              "      <td>-0.00</td>\n",
              "      <td>-0.11</td>\n",
              "      <td>0.02</td>\n",
              "      <td>-0.00</td>\n",
              "      <td>...</td>\n",
              "      <td>-0.04</td>\n",
              "      <td>-0.04</td>\n",
              "      <td>-0.04</td>\n",
              "      <td>-0.03</td>\n",
              "      <td>-0.04</td>\n",
              "      <td>-0.04</td>\n",
              "      <td>-0.04</td>\n",
              "      <td>-0.04</td>\n",
              "      <td>-0.04</td>\n",
              "      <td>-0.03</td>\n",
              "    </tr>\n",
              "    <tr>\n",
              "      <th>max</th>\n",
              "      <td>1.540456e+12</td>\n",
              "      <td>0.87</td>\n",
              "      <td>0.87</td>\n",
              "      <td>0.87</td>\n",
              "      <td>2.06</td>\n",
              "      <td>1.34</td>\n",
              "      <td>0.30</td>\n",
              "      <td>1.80</td>\n",
              "      <td>2.03</td>\n",
              "      <td>12.75</td>\n",
              "      <td>...</td>\n",
              "      <td>-0.02</td>\n",
              "      <td>-0.02</td>\n",
              "      <td>-0.01</td>\n",
              "      <td>-0.01</td>\n",
              "      <td>-0.02</td>\n",
              "      <td>-0.02</td>\n",
              "      <td>-0.02</td>\n",
              "      <td>-0.02</td>\n",
              "      <td>-0.02</td>\n",
              "      <td>-0.01</td>\n",
              "    </tr>\n",
              "  </tbody>\n",
              "</table>\n",
              "<p>8 rows × 3649 columns</p>\n",
              "</div>\n",
              "      <button class=\"colab-df-convert\" onclick=\"convertToInteractive('df-ae0cda03-9125-4d49-b752-614eff97a4cd')\"\n",
              "              title=\"Convert this dataframe to an interactive table.\"\n",
              "              style=\"display:none;\">\n",
              "        \n",
              "  <svg xmlns=\"http://www.w3.org/2000/svg\" height=\"24px\"viewBox=\"0 0 24 24\"\n",
              "       width=\"24px\">\n",
              "    <path d=\"M0 0h24v24H0V0z\" fill=\"none\"/>\n",
              "    <path d=\"M18.56 5.44l.94 2.06.94-2.06 2.06-.94-2.06-.94-.94-2.06-.94 2.06-2.06.94zm-11 1L8.5 8.5l.94-2.06 2.06-.94-2.06-.94L8.5 2.5l-.94 2.06-2.06.94zm10 10l.94 2.06.94-2.06 2.06-.94-2.06-.94-.94-2.06-.94 2.06-2.06.94z\"/><path d=\"M17.41 7.96l-1.37-1.37c-.4-.4-.92-.59-1.43-.59-.52 0-1.04.2-1.43.59L10.3 9.45l-7.72 7.72c-.78.78-.78 2.05 0 2.83L4 21.41c.39.39.9.59 1.41.59.51 0 1.02-.2 1.41-.59l7.78-7.78 2.81-2.81c.8-.78.8-2.07 0-2.86zM5.41 20L4 18.59l7.72-7.72 1.47 1.35L5.41 20z\"/>\n",
              "  </svg>\n",
              "      </button>\n",
              "      \n",
              "  <style>\n",
              "    .colab-df-container {\n",
              "      display:flex;\n",
              "      flex-wrap:wrap;\n",
              "      gap: 12px;\n",
              "    }\n",
              "\n",
              "    .colab-df-convert {\n",
              "      background-color: #E8F0FE;\n",
              "      border: none;\n",
              "      border-radius: 50%;\n",
              "      cursor: pointer;\n",
              "      display: none;\n",
              "      fill: #1967D2;\n",
              "      height: 32px;\n",
              "      padding: 0 0 0 0;\n",
              "      width: 32px;\n",
              "    }\n",
              "\n",
              "    .colab-df-convert:hover {\n",
              "      background-color: #E2EBFA;\n",
              "      box-shadow: 0px 1px 2px rgba(60, 64, 67, 0.3), 0px 1px 3px 1px rgba(60, 64, 67, 0.15);\n",
              "      fill: #174EA6;\n",
              "    }\n",
              "\n",
              "    [theme=dark] .colab-df-convert {\n",
              "      background-color: #3B4455;\n",
              "      fill: #D2E3FC;\n",
              "    }\n",
              "\n",
              "    [theme=dark] .colab-df-convert:hover {\n",
              "      background-color: #434B5C;\n",
              "      box-shadow: 0px 1px 3px 1px rgba(0, 0, 0, 0.15);\n",
              "      filter: drop-shadow(0px 1px 2px rgba(0, 0, 0, 0.3));\n",
              "      fill: #FFFFFF;\n",
              "    }\n",
              "  </style>\n",
              "\n",
              "      <script>\n",
              "        const buttonEl =\n",
              "          document.querySelector('#df-ae0cda03-9125-4d49-b752-614eff97a4cd button.colab-df-convert');\n",
              "        buttonEl.style.display =\n",
              "          google.colab.kernel.accessAllowed ? 'block' : 'none';\n",
              "\n",
              "        async function convertToInteractive(key) {\n",
              "          const element = document.querySelector('#df-ae0cda03-9125-4d49-b752-614eff97a4cd');\n",
              "          const dataTable =\n",
              "            await google.colab.kernel.invokeFunction('convertToInteractive',\n",
              "                                                     [key], {});\n",
              "          if (!dataTable) return;\n",
              "\n",
              "          const docLinkHtml = 'Like what you see? Visit the ' +\n",
              "            '<a target=\"_blank\" href=https://colab.research.google.com/notebooks/data_table.ipynb>data table notebook</a>'\n",
              "            + ' to learn more about interactive tables.';\n",
              "          element.innerHTML = '';\n",
              "          dataTable['output_type'] = 'display_data';\n",
              "          await google.colab.output.renderOutput(dataTable, element);\n",
              "          const docLink = document.createElement('div');\n",
              "          docLink.innerHTML = docLinkHtml;\n",
              "          element.appendChild(docLink);\n",
              "        }\n",
              "      </script>\n",
              "    </div>\n",
              "  </div>\n",
              "  "
            ]
          },
          "metadata": {},
          "execution_count": 22
        }
      ]
    },
    {
      "cell_type": "markdown",
      "source": [
        "### Exercise 4.1\n",
        "1. Using Pandas, import the CSV file located at https://raw.githubusercontent.com/allisonhorst/palmerpenguins/master/inst/extdata/penguins.csv\n",
        "2. Display the first 3 lines using the ```head()``` function.\n",
        "3. Rembering that you can extract a given column from the table using ```my_dataframe['column_name']```, try to plot the ```bill_depth_mm```as as function of ```bill_length_mm``` using the ```plot``` function. Does it work ? Did you pass a Numpy array to the plotting function ?\n",
        "4. Change the line/marker type so that you obtain a scatter plot, i.e. only single dots without a line\n",
        "\n",
        "\n"
      ],
      "metadata": {
        "id": "-D2_sTHUigdK"
      }
    },
    {
      "cell_type": "code",
      "source": [
        "url = 'https://raw.githubusercontent.com/allisonhorst/palmerpenguins/master/inst/extdata/penguins.csv'\n",
        "df = pd.read_csv(url)\n",
        "\n",
        "df.head(3)\n",
        "\n",
        "bill_depth_mm = df['bill_depth_mm']\n",
        "bill_length_mm = df['bill_length_mm']\n",
        "\n",
        "fig, ax = plt.subplots()\n",
        "ax.plot(bill_length_mm, bill_depth_mm, 'o')"
      ],
      "metadata": {
        "colab": {
          "base_uri": "https://localhost:8080/",
          "height": 282
        },
        "id": "4Bn5XOAHipik",
        "outputId": "745f512c-b6f5-45bf-c1ba-9b0569ef1a4c"
      },
      "execution_count": null,
      "outputs": [
        {
          "output_type": "execute_result",
          "data": {
            "text/plain": [
              "[<matplotlib.lines.Line2D at 0x7fbf641f1520>]"
            ]
          },
          "metadata": {},
          "execution_count": 23
        },
        {
          "output_type": "display_data",
          "data": {
            "text/plain": [
              "<Figure size 432x288 with 1 Axes>"
            ],
            "image/png": "[encoded data removed]"
          },
          "metadata": {
            "needs_background": "light"
          }
        }
      ]
    },
    {
      "cell_type": "markdown",
      "source": [
        "### Exercise 4.2\n",
        "\n",
        "We return to the CCD dataset. Show the boxplots of ten wavelengths, roughly equidistant between the minumum and maximum wavelength in the dataset. \n",
        "\n",
        "Ten wavelengths, equidistant between minimum and maximum wavelength in the dataset:\n",
        "- Minimum wavelength: 316.6137\t\n",
        "- Maximum wavelength: 780.0381\n",
        "- In total: 3649 columns\n",
        "- 10 wavelengths: indexes 0, 405, 811, 1216, 1622, 2027, 2433, 2838, 3244, 3649"
      ],
      "metadata": {
        "id": "ZRzbmTdFtKd5"
      }
    },
    {
      "cell_type": "code",
      "source": [
        "from google.colab import drive\n",
        "drive.mount('/content/drive')\n",
        "path = '/content/drive/MyDrive/DSF/week-2/CCD-Data.txt'\n",
        "df = pd.read_csv(path, delimiter='\\t', header=13)\n",
        "\n",
        "\n",
        "df.boxplot([df.columns[2], df.columns[405], df.columns[811],\n",
        "            df.columns[1216], df.columns[1622], df.columns[2027],\n",
        "            df.columns[2433], df.columns[2838], df.columns[3244], \n",
        "            df.columns[3649]], rot=45)\n",
        "plt.ylabel('???')\n",
        "plt.xlabel('wavelength (nm)')\n"
      ],
      "metadata": {
        "colab": {
          "base_uri": "https://localhost:8080/",
          "height": 365
        },
        "id": "wNKK2JN1vsib",
        "outputId": "c05ead99-a876-4884-cb5e-294e9b0ab552"
      },
      "execution_count": null,
      "outputs": [
        {
          "output_type": "stream",
          "name": "stdout",
          "text": [
            "Drive already mounted at /content/drive; to attempt to forcibly remount, call drive.mount(\"/content/drive\", force_remount=True).\n"
          ]
        },
        {
          "output_type": "execute_result",
          "data": {
            "text/plain": [
              "Text(0.5, 0, 'wavelength (nm)')"
            ]
          },
          "metadata": {},
          "execution_count": 24
        },
        {
          "output_type": "display_data",
          "data": {
            "text/plain": [
              "<Figure size 432x288 with 1 Axes>"
            ],
            "image/png": "[encoded data removed]"
          },
          "metadata": {
            "needs_background": "light"
          }
        }
      ]
    },
    {
      "cell_type": "markdown",
      "source": [
        "# 05. Numpy arrays\n",
        "\n",
        "- Numby arrays are the **objects** that underlie DataFrames \n",
        "- Arrays provide **vectorized** computations\n",
        "- More convenient than lists to store large amounts of data (especially if arranged in complicated structures)\n",
        "- Can be edited more easily (e.g. to convert values in list from m to mm every value of the list has to be converted individually using a loop)\n",
        "\n",
        "\n",
        "\n",
        "### Create an array: `np.array` \n",
        "(without extracting it from a DataFrame)\n",
        "\n",
        "\n",
        "\n"
      ],
      "metadata": {
        "id": "_hWiUbTg_qtY"
      }
    },
    {
      "cell_type": "code",
      "source": [
        "import numpy as np\n",
        "\n",
        "# very simple example\n",
        "# use arrays instead of a lists and a loop\n",
        "\n",
        "gramms = [5400, 3491, 2591, 14100]\n",
        "gramms_array = np.array(gramms)\n",
        "kilogramms_array = gramms_array / 1000\n",
        "print(gramms_array)\n",
        "print(kilogramms_array)\n",
        "\n",
        "\n",
        "# another example\n",
        "# again: use of arrays instead of lists and a loop\n",
        "\n",
        "price_per_m2 = np.array([6, 10.3, 12.4, 10.6, 5.7, 4.3, 14, 0.5, 0.5, 17.8, \n",
        "                         12.7, 16, 2.7, 17.5, 5.2, 7.1, 1.2, 7.2, 14.5, 11.9])\n",
        "surface = np.array([238, 239, 265, 212, 143, 132, 142, 133, 109, 291, 225, 165, \n",
        "                    141, 197, 298, 289, 123,  90, 132, 203])\n",
        "\n",
        "price = price_per_m2 * surface\n",
        "price\n",
        "\n"
      ],
      "metadata": {
        "colab": {
          "base_uri": "https://localhost:8080/"
        },
        "id": "L3grde02kDSb",
        "outputId": "ee7e304b-652a-42bf-e5a0-32a79035431a"
      },
      "execution_count": null,
      "outputs": [
        {
          "output_type": "stream",
          "name": "stdout",
          "text": [
            "[ 5400  3491  2591 14100]\n",
            "[ 5.4    3.491  2.591 14.1  ]\n"
          ]
        },
        {
          "output_type": "execute_result",
          "data": {
            "text/plain": [
              "array([1428. , 2461.7, 3286. , 2247.2,  815.1,  567.6, 1988. ,   66.5,\n",
              "         54.5, 5179.8, 2857.5, 2640. ,  380.7, 3447.5, 1549.6, 2051.9,\n",
              "        147.6,  648. , 1914. , 2415.7])"
            ]
          },
          "metadata": {},
          "execution_count": 25
        }
      ]
    },
    {
      "cell_type": "markdown",
      "source": [
        "### Advantages of vectorization\n",
        "**Two main advantages:**\n",
        "\n",
        "Code is much simpler:\n",
        "- one line to multiply values of two arrays while it takes several lines including a loop to multiply two lists\n",
        "Code is faster: \n",
        "- in a loop, every operation is done separately while in Numpy vectorized version, all multiplications can be done in parallel\n",
        "- if every operation happens separately, python does verifications every time (e..g check if variable is a number), as python is dynamically typed\n",
        "- arrays can contain only one type of variable, so the verification does not have to be repeated\n",
        "- addiitonally, variables are efficiently stored as blocks in memory, so that individual values don't have to be \" searched\" for\n",
        "\n",
        "\n",
        "\n",
        "\n",
        "**DON'T use loops to work with large data files, use numpy!**\n",
        "\n",
        "\n",
        "\n",
        "**Question: what means \"dynamically typed\"**?????\n",
        "\n",
        "\n",
        "\n",
        "### Compare Execution Time using `%%timeit`\n",
        "\n",
        "- Jupyter Magic Function\n",
        "- `%%time` that returns the time of one excecution\n",
        "- `%%timeit` performs several excecutions and returns the best execution time (example below: n times performed, mean and std. dev. of the five best runs)\n",
        "- Important: is a 'cell magic' and has to be the first thing in the cell\n"
      ],
      "metadata": {
        "id": "1d2WJvOulxHq"
      }
    },
    {
      "cell_type": "code",
      "source": [
        "import numpy as np\n",
        "\n",
        "price_per_m2 = [6, 10.3, 12.4, 10.6, 5.7, 4.3, 14, 0.5, 0.5, 17.8, 12.7, 16, \n",
        "                 2.7, 17.5, 5.2, 7.1, 1.2, 7.2, 14.5, 11.9]\n",
        "surface = [238, 239, 265, 212, 143, 132, 142, 133, 109, 291, 225, 165, 141, \n",
        "           197, 298, 289, 123,  90, 132, 203]"
      ],
      "metadata": {
        "id": "Wz1ExjXTnaA7"
      },
      "execution_count": null,
      "outputs": []
    },
    {
      "cell_type": "code",
      "source": [
        "%%timeit -n 10000 -r 5\n",
        "price = []\n",
        "for i in range(len(price_per_m2)):\n",
        "  current_price = price_per_m2[i] * surface[i]\n",
        "  price.append(current_price)\n"
      ],
      "metadata": {
        "colab": {
          "base_uri": "https://localhost:8080/"
        },
        "id": "LS6261YQqTcc",
        "outputId": "6f02b5b7-1cec-4918-b616-530fee2a3f51"
      },
      "execution_count": null,
      "outputs": [
        {
          "output_type": "stream",
          "name": "stdout",
          "text": [
            "4.05 µs ± 473 ns per loop (mean ± std. dev. of 5 runs, 10000 loops each)\n"
          ]
        }
      ]
    },
    {
      "cell_type": "code",
      "source": [
        "%%timeit -n 10000 -r 5\n",
        "price_per_m2_array = np.array(price_per_m2)\n",
        "surface_array = np.array(surface)\n",
        "\n",
        "price_array = price_per_m2_array*surface_array\n"
      ],
      "metadata": {
        "colab": {
          "base_uri": "https://localhost:8080/"
        },
        "id": "_mhtxSXYrnYJ",
        "outputId": "05979414-ec04-4d03-e11b-5d453b3a9482"
      },
      "execution_count": null,
      "outputs": [
        {
          "output_type": "stream",
          "name": "stdout",
          "text": [
            "5.3 µs ± 442 ns per loop (mean ± std. dev. of 5 runs, 10000 loops each)\n"
          ]
        }
      ]
    },
    {
      "cell_type": "markdown",
      "source": [
        "### Array Type\n",
        "- Arrays have a specific type (all elements inside have the same type)\n",
        "- Is crucial to make computation with arrays fast\n",
        "\n",
        "Type can get known using `dtype`\n",
        "\n",
        "Combining arrays:\n",
        "- Numpy always selects the most complex `dtype` for the output\n",
        "\n",
        "Change `dtype`:\n",
        "- `as_type` method\n",
        "- for example if surface_array should become a float instead of a integer\n",
        "- For this, a new array has to be created (operations on Numpy arrays are not done in place; array itsels is not changed)\n",
        "\n",
        "Type can get known using `dtype`: \n",
        "\n",
        "**Examples:**\n"
      ],
      "metadata": {
        "id": "G6qSOpRusl5-"
      }
    },
    {
      "cell_type": "code",
      "source": [
        "import numpy as np\n",
        "\n",
        "price_per_m2 = [6, 10.3, 12.4, 10.6, 5.7, 4.3, 14, 0.5, 0.5, 17.8, 12.7, 16, \n",
        "                 2.7, 17.5, 5.2, 7.1, 1.2, 7.2, 14.5, 11.9]\n",
        "price_per_m2_array = np.array(price_per_m2)\n",
        "surface_array = np.array([238, 239, 265, 212, 143, 132, 142, 133, 109, 291, 225, 165, 141, \n",
        "           197, 298, 289, 123,  90, 132, 203])\n",
        "\n",
        "print(price_per_m2_array.dtype)\n",
        "print(surface_array.dtype)\n",
        "\n",
        "surface_array_float = surface_array.astype(np.float64)\n",
        "print(surface_array_float.dtype)"
      ],
      "metadata": {
        "colab": {
          "base_uri": "https://localhost:8080/"
        },
        "id": "viApRzgF5_wy",
        "outputId": "db615cb1-6d46-4ef3-e1f4-319e0f964e09"
      },
      "execution_count": null,
      "outputs": [
        {
          "output_type": "stream",
          "name": "stdout",
          "text": [
            "float64\n",
            "int64\n",
            "float64\n"
          ]
        }
      ]
    },
    {
      "cell_type": "markdown",
      "source": [
        "## Back to Pandas\n",
        "### Excel file as Pandas DataFrame\n",
        "- To read an excel file: `read_excel` function\n",
        "- Use functions of Numpy dataframes (Pandas dataframes are Numpy dataframes)\n",
        "\n",
        "**Example**:\n",
        "\n",
        "\n",
        "\n"
      ],
      "metadata": {
        "id": "UDew_61q9iWh"
      }
    },
    {
      "cell_type": "code",
      "source": [
        "import pandas as pd\n",
        "import numpy as np\n",
        "\n",
        "composers = pd.read_excel('https://github.com/guiwitz/NumpyPandas_course/blob/master/Data/composers.xlsx?raw=true')\n",
        "composers['birth']\n",
        "print(composers)\n",
        "print('\\n',composers['birth'].dtype)\n",
        "composers['birth'] = composers['birth'].astype(np.float64)\n",
        "print('\\n\\n',composers)\n",
        "print('\\n',composers['birth'].dtype)"
      ],
      "metadata": {
        "colab": {
          "base_uri": "https://localhost:8080/"
        },
        "id": "Peh-0sXvCki5",
        "outputId": "d822c1a9-f96c-4032-f8ac-9e653eadb204"
      },
      "execution_count": null,
      "outputs": [
        {
          "output_type": "stream",
          "name": "stdout",
          "text": [
            "       composer  birth  death              city\n",
            "0        Mahler   1860   1911           Kaliste\n",
            "1     Beethoven   1770   1827              Bonn\n",
            "2       Puccini   1858   1924           Lucques\n",
            "3  Shostakovich   1906   1975  Saint-Petersburg\n",
            "\n",
            " int64\n",
            "\n",
            "\n",
            "        composer   birth  death              city\n",
            "0        Mahler  1860.0   1911           Kaliste\n",
            "1     Beethoven  1770.0   1827              Bonn\n",
            "2       Puccini  1858.0   1924           Lucques\n",
            "3  Shostakovich  1906.0   1975  Saint-Petersburg\n",
            "\n",
            " float64\n"
          ]
        }
      ]
    },
    {
      "cell_type": "markdown",
      "source": [
        "### Exercise\n",
        "\n",
        "1. Create an array with 3 elements and one with 5 elements containing integers\n",
        "2. Try to multiply the two arrays.\n",
        "3. You should get an error message. Do you understand the problem ? How can you fix it?\n",
        "4. Change the ```dtype``` of the output to float32.\n",
        "5. Import the file that you cand find here: https://raw.githubusercontent.com/allisonhorst/palmerpenguins/master/inst/extdata/penguins.csv\n",
        "6. Use ```head()``` to visualize a few lines\n",
        "7. What's the type of the ```body_mass_g``` and ```year``` columns ?\n",
        "8. Transform the type of the ```year``` column into a float\n",
        "\n"
      ],
      "metadata": {
        "id": "_aLwGXetEhgV"
      }
    },
    {
      "cell_type": "code",
      "source": [
        "#not done yet"
      ],
      "metadata": {
        "id": "UwyrfbvDE8Hv"
      },
      "execution_count": null,
      "outputs": []
    },
    {
      "cell_type": "markdown",
      "source": [
        "# 06_Numpy_Indexing\n",
        "\n",
        "### Indexing in lists\n",
        "**Indexing individual elements in Lists:**\n",
        "- first element has index 0\n",
        "- last element has index (len(list))-1\n",
        "- negative indexes: positions relative to the end of the list \n",
        "- invalid index leads to `IndexError`\n",
        "\n",
        "**List slicing:**\n",
        "- A slice is a span of items from a list\n",
        "- shallow copies of original list\n",
        "- Slices are always valid (unlike indexes), even if indices are out of range\n",
        "- Indices that are out of range lead to empty list\n",
        "\n",
        "List slicing format: \n",
        "``` \n",
        "my_slice = my_list[start:end:step]\n",
        "```\n",
        "\n",
        "Defaults: \n",
        "- start not defined (e.g. `my_list[:5]`): starts at index 0 (if steps positive) or -1 (if steps negative)\n",
        "- end is not defined: up to last value \n",
        "- if step is not defined: defaults to 1\n",
        "\n",
        "**Get index of specific item:**\n",
        "Example: \n",
        "```\n",
        "teas = ['Sencha', 'Assam', 'Bai Mudan']\n",
        "print(teas.index('Assam'))\n",
        "```\n",
        "- returns 1 \n",
        "- would return `ValueError` exception if item not in list\n",
        "\n",
        "\n",
        "\n",
        "### Numpy Indexing\n",
        "- Very powerful, we cover only a tiny fraction of this topic\n",
        "- To learn more: https://numpy.org/doc/stable/reference/arrays.indexing.html#indexing\n",
        "- In general, indexing and extraction of slices works the same as with lists\n",
        "\n",
        "**Higher Dimenstions:**\n",
        "- Arrays with more than one dimension\n",
        "\n",
        "Slices from 2D array: \n",
        "- rows before arrays\n",
        "- both numbers in the same square brackets, separated by comma\n",
        "```\n",
        "my_array[start_row:end_row, start_column:end_column]\n",
        "```\n",
        "\n",
        "**Work with subarrays:**\n",
        "- slice can be saved as a sub array\n",
        "- but if sub array is edited, orginal array changes too\n",
        "- slicing does not create an independent sub-array, but a sub-array that is still linked to the original one\n",
        "\n",
        "Create an independent sub-array:\n",
        "```\n",
        "sub_array = my_array[7:10].copy()\n",
        "```\n",
        "- now the sub-array is independent from the original array\n",
        "- if you change the sub-array, the original array doesn't change\n",
        "\n",
        "\n",
        "**Some Examples:**\n"
      ],
      "metadata": {
        "id": "xOJafll5E_6-"
      }
    },
    {
      "cell_type": "code",
      "source": [
        "import numpy as np\n",
        "\n",
        "some_array = np.random.normal(size=10)\n",
        "print('item 2:',some_array[1])\n",
        "print('First 3 items:', some_array[:3])\n",
        "some_array[1:4] = 10\n",
        "print('First 3 items', some_array[:3])\n",
        "\n",
        "\n",
        "# 2D array (remember: rows, columns)\n",
        "\n",
        "print('\\n2D arrays:')\n",
        "# create a 2D array with 3 rows and 5 columns\n",
        "some_2D_array = np.random.normal(size=(3,5))\n",
        "print('First row:',some_2D_array[1,:])\n",
        "print('First column:', some_2D_array[:,1])\n",
        "\n",
        "sub_array = some_2D_array[1:3, 1:3]\n",
        "print('Sub-array:\\n', sub_array)\n",
        "\n",
        "independent_sub_array = some_2D_array[1:3, 1:3].copy()\n",
        "print('Independent sub-array:\\n',independent_sub_array)\n",
        "\n"
      ],
      "metadata": {
        "colab": {
          "base_uri": "https://localhost:8080/"
        },
        "id": "WOYBPNr6keKw",
        "outputId": "710cb95a-a3c2-41fa-8167-df4777e716ad"
      },
      "execution_count": null,
      "outputs": [
        {
          "output_type": "stream",
          "name": "stdout",
          "text": [
            "item 2: 1.2424541502964597\n",
            "First 3 items: [-0.07362055  1.24245415  1.31609779]\n",
            "First 3 items [-0.07362055 10.         10.        ]\n",
            "\n",
            "2D arrays:\n",
            "First row: [-2.05204102  1.36803439 -0.985139    1.56977768  0.89145026]\n",
            "First column: [0.0202356  1.36803439 0.23974055]\n",
            "Sub-array:\n",
            " [[ 1.36803439 -0.985139  ]\n",
            " [ 0.23974055  1.08217074]]\n",
            "Independent sub-array:\n",
            " [[ 1.36803439 -0.985139  ]\n",
            " [ 0.23974055  1.08217074]]\n"
          ]
        }
      ]
    },
    {
      "cell_type": "markdown",
      "source": [
        "### Boolean Indexing\n",
        "- Instead of using numerical indices to extract values, we can select them by some criteria\n",
        "\n",
        "For example recover elements that are larger than 0:\n",
        "```\n",
        "bool_array = my_array > 0\n",
        "``` \n",
        "- `my_array > 0` creats an array containing `True` or `False` for every item (contains **booleans** for every item)\n",
        "- can be used to extract only items that are `True` in boolean array\n",
        "- instead of passing for example a column or a row we pass all values above 0\n",
        "\n",
        "Extract sub-array using boolean array:\n",
        "```\n",
        "sub_array = my_array[bool_array]\n",
        "```\n",
        "\n",
        "Important: in this case the sub-array can be edited without editing the original array at the same time (no need for `copy` function)\n",
        "\n",
        "\n",
        "**Example:**\n"
      ],
      "metadata": {
        "id": "NuFZiTNfdmbr"
      }
    },
    {
      "cell_type": "code",
      "source": [
        "import numpy as np\n",
        "from IPython.display import Image\n",
        "\n",
        "my_array = np.random.normal(size=10)\n",
        "print('Original array:',my_array)\n",
        "\n",
        "bool_array = my_array > 0\n",
        "print('\\nBoolean array:\\n', bool_array)\n",
        "\n",
        "sub_array = my_array[bool_array]\n",
        "print('\\nSub-array:\\n', sub_array)\n",
        "\n",
        "sub_array[1] = 5\n",
        "print('\\nEdited Sub-array:\\n',sub_array)\n",
        "\n",
        "print('\\nOriginal array:\\n', my_array)\n"
      ],
      "metadata": {
        "colab": {
          "base_uri": "https://localhost:8080/"
        },
        "id": "MhYSfJgvdrx5",
        "outputId": "c375d774-f8f7-4038-8e3c-5e5f1c5c28f8"
      },
      "execution_count": null,
      "outputs": [
        {
          "output_type": "stream",
          "name": "stdout",
          "text": [
            "Original array: [ 3.71461392  0.76886284 -1.92974155  0.47344994  1.73146902  0.50369129\n",
            " -1.17350213 -0.52800346 -0.46297207 -0.66302897]\n",
            "\n",
            "Boolean array:\n",
            " [ True  True False  True  True  True False False False False]\n",
            "\n",
            "Sub-array:\n",
            " [3.71461392 0.76886284 0.47344994 1.73146902 0.50369129]\n",
            "\n",
            "Edited Sub-array:\n",
            " [3.71461392 5.         0.47344994 1.73146902 0.50369129]\n",
            "\n",
            "Original array:\n",
            " [ 3.71461392  0.76886284 -1.92974155  0.47344994  1.73146902  0.50369129\n",
            " -1.17350213 -0.52800346 -0.46297207 -0.66302897]\n"
          ]
        }
      ]
    },
    {
      "cell_type": "markdown",
      "source": [
        "### Exercise\n",
        "1. Create a numpy array with values from 0 to 10 in steps of 0.5\n",
        "2. Extract the the last three elements of the array using slicing.\n",
        "3. Apply a cosine function to the full array created in (1.) and store the output in a new array.\n",
        "4. Create a boolean array telling which values in the array from (3.) are smaller than 0.\n",
        "5. Recover only those values in a new array via indexing.\n"
      ],
      "metadata": {
        "id": "uZI789GVfnYh"
      }
    },
    {
      "cell_type": "code",
      "source": [
        "# not done yet"
      ],
      "metadata": {
        "id": "z611h0R7fy6i"
      },
      "execution_count": null,
      "outputs": []
    },
    {
      "cell_type": "markdown",
      "source": [],
      "metadata": {
        "id": "nUSiCpH8wf3i"
      }
    },
    {
      "cell_type": "markdown",
      "source": [],
      "metadata": {
        "id": "3vSo4jEWwgBR"
      }
    },
    {
      "cell_type": "markdown",
      "source": [],
      "metadata": {
        "id": "qjSq_1kcwgDs"
      }
    },
    {
      "cell_type": "markdown",
      "source": [],
      "metadata": {
        "id": "Wl6fJWTNwgGL"
      }
    },
    {
      "cell_type": "markdown",
      "source": [],
      "metadata": {
        "id": "mwwksvBVwgIY"
      }
    },
    {
      "cell_type": "markdown",
      "source": [
        "# 08_Strings_and_Regular_Expression\n",
        "\n",
        "- to check regex: regex101.com\n",
        "- to design regex: chatGPT is very useful\n",
        "\n"
      ],
      "metadata": {
        "id": "uI2OOG83wgL0"
      }
    },
    {
      "cell_type": "markdown",
      "source": [],
      "metadata": {
        "id": "NNUlKtzZ4_tH"
      }
    }
  ]
}