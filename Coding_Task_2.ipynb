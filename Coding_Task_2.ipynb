{
  "nbformat": 4,
  "nbformat_minor": 0,
  "metadata": {
    "colab": {
      "provenance": [],
      "include_colab_link": true
    },
    "kernelspec": {
      "name": "python3",
      "display_name": "Python 3"
    },
    "language_info": {
      "name": "python"
    }
  },
  "cells": [
    {
      "cell_type": "markdown",
      "metadata": {
        "id": "view-in-github",
        "colab_type": "text"
      },
      "source": [
        "<a href=\"https://colab.research.google.com/github/kajastalder/data-science-fundamentals/blob/main/Coding_Task_2.ipynb\" target=\"_parent\"><img src=\"https://colab.research.google.com/assets/colab-badge.svg\" alt=\"Open In Colab\"/></a>"
      ]
    },
    {
      "cell_type": "markdown",
      "source": [
        "Kaja Stalder, 19-108-315"
      ],
      "metadata": {
        "id": "faeCt-MlqlIJ"
      }
    },
    {
      "cell_type": "markdown",
      "source": [
        "Data Science Fundamentals for DCBP, S. Haug, University of Bern "
      ],
      "metadata": {
        "id": "_-1mhuoK6uqC"
      }
    },
    {
      "cell_type": "markdown",
      "source": [
        "# Coding Task 2\n",
        "\n",
        "- Deadline (upload to Ilias): 2023-05-14 24:00\n",
        "- Solutions in lecture on 2023-05-17\n",
        "- Estimated effort: from 4 to 60 hours\n",
        "- Images (data) on Ilias in the Data folder, the images.zip file\n",
        "- Main notebook is number 11 for this task, however, also others may help you. You can also benefit a lot from googeling for code examples\n"
      ],
      "metadata": {
        "id": "gn4RkUC66-ou"
      }
    },
    {
      "cell_type": "markdown",
      "source": [
        "## Subtasks (maximum 12.5 points)"
      ],
      "metadata": {
        "id": "KYKF2iS56v1z"
      }
    },
    {
      "cell_type": "markdown",
      "source": [
        "- Upload the images to a folder on your google drive. Write a function which retrieves the filenames of the images, contains a loop converting them to png images and saves them. [about 1 hour] [max 3 points] \n",
        "- With some filtering and sthresholding, write a function which converts the colored bins into nice white segments on a black background for one image. [about 1 hour][max 3 points]\n",
        "- Write an algorithm which counts the number of bins. First approach could be a \"sliding window\" algorithm, i.e a loop sliding over the image and counting regions with substantial white content. There may also be nice segmentation tools out \"there\" already. You may google. [about 4 hours][max 3 points] \n",
        "- Write an algorithm which does the latter task on all images. As the images are quite different, this is a large task which goes beyond the time budget of this exercise, however, you can give it a try. If it works out for a couple of images, that is already good. [from 4 to 50 hours][max 3.5 points]"
      ],
      "metadata": {
        "id": "rXqhhPMu9aPx"
      }
    },
    {
      "cell_type": "markdown",
      "source": [
        "Work in teams and have fun ! "
      ],
      "metadata": {
        "id": "OfvMackX-SFc"
      }
    },
    {
      "cell_type": "code",
      "source": [
        "import numpy as np\n",
        "import matplotlib.pyplot as plt\n",
        "import skimage.io as io\n",
        "\n",
        "from google.colab import drive\n",
        "drive.mount('/content/drive')\n",
        "\n",
        "!pip install pillow_heif \n",
        "\n",
        "# subtask 1: \n",
        "# Write a function which retrieves the filenames of the images, \n",
        "# contains a loop converting them to png images and saves them.\n",
        "from PIL import Image\n",
        "import pillow_heif\n",
        "\n",
        "def heic_images_in_png_images():\n",
        "  url_pre  = '/content/drive/MyDrive/DSF/coding-task-2/'\n",
        "  for i in range(5379,5394):\n",
        "    url_name = 'IMG_' + str(i) + '.HEIC'\n",
        "    heif_file = pillow_heif.read_heif(url_pre+url_name)\n",
        "    image = Image.frombytes(heif_file.mode, heif_file.size, bytes(heif_file.data),'raw')\n",
        "    url_name = url_name.split('.')[0]+'.png'\n",
        "    image.save(url_pre+url_name, format=\"png\")\n",
        "\n",
        "heic_images_in_png_images()\n",
        "\n",
        "\n",
        "# subtask 2:\n",
        "# With some filtering and sthresholding, write a function which converts the \n",
        "# colored bins into nice white segments on a black background for one image. \n",
        "\n",
        "\n"
      ],
      "metadata": {
        "id": "jNRHC9V00iKf",
        "outputId": "be64f550-263f-4e5c-d504-e98251f3e08a",
        "colab": {
          "base_uri": "https://localhost:8080/"
        }
      },
      "execution_count": null,
      "outputs": [
        {
          "output_type": "stream",
          "name": "stdout",
          "text": [
            "Drive already mounted at /content/drive; to attempt to forcibly remount, call drive.mount(\"/content/drive\", force_remount=True).\n",
            "Looking in indexes: https://pypi.org/simple, https://us-python.pkg.dev/colab-wheels/public/simple/\n",
            "Requirement already satisfied: pillow_heif in /usr/local/lib/python3.10/dist-packages (0.11.0)\n",
            "Requirement already satisfied: pillow>=8.4.0 in /usr/local/lib/python3.10/dist-packages (from pillow_heif) (8.4.0)\n"
          ]
        }
      ]
    },
    {
      "cell_type": "code",
      "source": [],
      "metadata": {
        "id": "rxIrOF9UVKlg"
      },
      "execution_count": null,
      "outputs": []
    }
  ]
}